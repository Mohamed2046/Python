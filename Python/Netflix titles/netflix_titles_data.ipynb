{
  "nbformat": 4,
  "nbformat_minor": 0,
  "metadata": {
    "colab": {
      "provenance": []
    },
    "kernelspec": {
      "name": "python3",
      "display_name": "Python 3"
    },
    "language_info": {
      "name": "python"
    },
    "widgets": {
      "application/vnd.jupyter.widget-state+json": {
        "8f938229cefc4467bdd579983aa2c5f5": {
          "model_module": "@jupyter-widgets/controls",
          "model_name": "HBoxModel",
          "model_module_version": "1.5.0",
          "state": {
            "_dom_classes": [],
            "_model_module": "@jupyter-widgets/controls",
            "_model_module_version": "1.5.0",
            "_model_name": "HBoxModel",
            "_view_count": null,
            "_view_module": "@jupyter-widgets/controls",
            "_view_module_version": "1.5.0",
            "_view_name": "HBoxView",
            "box_style": "",
            "children": [
              "IPY_MODEL_378b74b877cd484ba7a67345a650ee37",
              "IPY_MODEL_cc4facef3d9340959cc2ffcdf1284032",
              "IPY_MODEL_dcfe1d1bf5ca44e3af8065aceae29b06"
            ],
            "layout": "IPY_MODEL_b2bf5bfca3eb4d6e978d6345b34ef04a"
          }
        },
        "378b74b877cd484ba7a67345a650ee37": {
          "model_module": "@jupyter-widgets/controls",
          "model_name": "HTMLModel",
          "model_module_version": "1.5.0",
          "state": {
            "_dom_classes": [],
            "_model_module": "@jupyter-widgets/controls",
            "_model_module_version": "1.5.0",
            "_model_name": "HTMLModel",
            "_view_count": null,
            "_view_module": "@jupyter-widgets/controls",
            "_view_module_version": "1.5.0",
            "_view_name": "HTMLView",
            "description": "",
            "description_tooltip": null,
            "layout": "IPY_MODEL_799f1d72e73b4c2892ff162f349927e6",
            "placeholder": "​",
            "style": "IPY_MODEL_885cc359a7fd4dbbb5326863a09d3bf8",
            "value": "Processing: 100%"
          }
        },
        "cc4facef3d9340959cc2ffcdf1284032": {
          "model_module": "@jupyter-widgets/controls",
          "model_name": "FloatProgressModel",
          "model_module_version": "1.5.0",
          "state": {
            "_dom_classes": [],
            "_model_module": "@jupyter-widgets/controls",
            "_model_module_version": "1.5.0",
            "_model_name": "FloatProgressModel",
            "_view_count": null,
            "_view_module": "@jupyter-widgets/controls",
            "_view_module_version": "1.5.0",
            "_view_name": "ProgressView",
            "bar_style": "",
            "description": "",
            "description_tooltip": null,
            "layout": "IPY_MODEL_d0bcdcb913d547bb8b8698136acde45c",
            "max": 65,
            "min": 0,
            "orientation": "horizontal",
            "style": "IPY_MODEL_9a1eb343a17d4f86a346b9c258b81f95",
            "value": 65
          }
        },
        "dcfe1d1bf5ca44e3af8065aceae29b06": {
          "model_module": "@jupyter-widgets/controls",
          "model_name": "HTMLModel",
          "model_module_version": "1.5.0",
          "state": {
            "_dom_classes": [],
            "_model_module": "@jupyter-widgets/controls",
            "_model_module_version": "1.5.0",
            "_model_name": "HTMLModel",
            "_view_count": null,
            "_view_module": "@jupyter-widgets/controls",
            "_view_module_version": "1.5.0",
            "_view_name": "HTMLView",
            "description": "",
            "description_tooltip": null,
            "layout": "IPY_MODEL_583bb68b2a0b4594ba8a43b1056d373b",
            "placeholder": "​",
            "style": "IPY_MODEL_7b2055773ef6479f9657b63ef14f60fa",
            "value": " 65/65 [01:13&lt;00:00,  1.26it/s]"
          }
        },
        "b2bf5bfca3eb4d6e978d6345b34ef04a": {
          "model_module": "@jupyter-widgets/base",
          "model_name": "LayoutModel",
          "model_module_version": "1.2.0",
          "state": {
            "_model_module": "@jupyter-widgets/base",
            "_model_module_version": "1.2.0",
            "_model_name": "LayoutModel",
            "_view_count": null,
            "_view_module": "@jupyter-widgets/base",
            "_view_module_version": "1.2.0",
            "_view_name": "LayoutView",
            "align_content": null,
            "align_items": null,
            "align_self": null,
            "border": null,
            "bottom": null,
            "display": null,
            "flex": null,
            "flex_flow": null,
            "grid_area": null,
            "grid_auto_columns": null,
            "grid_auto_flow": null,
            "grid_auto_rows": null,
            "grid_column": null,
            "grid_gap": null,
            "grid_row": null,
            "grid_template_areas": null,
            "grid_template_columns": null,
            "grid_template_rows": null,
            "height": null,
            "justify_content": null,
            "justify_items": null,
            "left": null,
            "margin": null,
            "max_height": null,
            "max_width": null,
            "min_height": null,
            "min_width": null,
            "object_fit": null,
            "object_position": null,
            "order": null,
            "overflow": null,
            "overflow_x": null,
            "overflow_y": null,
            "padding": null,
            "right": null,
            "top": null,
            "visibility": "hidden",
            "width": null
          }
        },
        "799f1d72e73b4c2892ff162f349927e6": {
          "model_module": "@jupyter-widgets/base",
          "model_name": "LayoutModel",
          "model_module_version": "1.2.0",
          "state": {
            "_model_module": "@jupyter-widgets/base",
            "_model_module_version": "1.2.0",
            "_model_name": "LayoutModel",
            "_view_count": null,
            "_view_module": "@jupyter-widgets/base",
            "_view_module_version": "1.2.0",
            "_view_name": "LayoutView",
            "align_content": null,
            "align_items": null,
            "align_self": null,
            "border": null,
            "bottom": null,
            "display": null,
            "flex": null,
            "flex_flow": null,
            "grid_area": null,
            "grid_auto_columns": null,
            "grid_auto_flow": null,
            "grid_auto_rows": null,
            "grid_column": null,
            "grid_gap": null,
            "grid_row": null,
            "grid_template_areas": null,
            "grid_template_columns": null,
            "grid_template_rows": null,
            "height": null,
            "justify_content": null,
            "justify_items": null,
            "left": null,
            "margin": null,
            "max_height": null,
            "max_width": null,
            "min_height": null,
            "min_width": null,
            "object_fit": null,
            "object_position": null,
            "order": null,
            "overflow": null,
            "overflow_x": null,
            "overflow_y": null,
            "padding": null,
            "right": null,
            "top": null,
            "visibility": null,
            "width": null
          }
        },
        "885cc359a7fd4dbbb5326863a09d3bf8": {
          "model_module": "@jupyter-widgets/controls",
          "model_name": "DescriptionStyleModel",
          "model_module_version": "1.5.0",
          "state": {
            "_model_module": "@jupyter-widgets/controls",
            "_model_module_version": "1.5.0",
            "_model_name": "DescriptionStyleModel",
            "_view_count": null,
            "_view_module": "@jupyter-widgets/base",
            "_view_module_version": "1.2.0",
            "_view_name": "StyleView",
            "description_width": ""
          }
        },
        "d0bcdcb913d547bb8b8698136acde45c": {
          "model_module": "@jupyter-widgets/base",
          "model_name": "LayoutModel",
          "model_module_version": "1.2.0",
          "state": {
            "_model_module": "@jupyter-widgets/base",
            "_model_module_version": "1.2.0",
            "_model_name": "LayoutModel",
            "_view_count": null,
            "_view_module": "@jupyter-widgets/base",
            "_view_module_version": "1.2.0",
            "_view_name": "LayoutView",
            "align_content": null,
            "align_items": null,
            "align_self": null,
            "border": null,
            "bottom": null,
            "display": null,
            "flex": null,
            "flex_flow": null,
            "grid_area": null,
            "grid_auto_columns": null,
            "grid_auto_flow": null,
            "grid_auto_rows": null,
            "grid_column": null,
            "grid_gap": null,
            "grid_row": null,
            "grid_template_areas": null,
            "grid_template_columns": null,
            "grid_template_rows": null,
            "height": null,
            "justify_content": null,
            "justify_items": null,
            "left": null,
            "margin": null,
            "max_height": null,
            "max_width": null,
            "min_height": null,
            "min_width": null,
            "object_fit": null,
            "object_position": null,
            "order": null,
            "overflow": null,
            "overflow_x": null,
            "overflow_y": null,
            "padding": null,
            "right": null,
            "top": null,
            "visibility": null,
            "width": null
          }
        },
        "9a1eb343a17d4f86a346b9c258b81f95": {
          "model_module": "@jupyter-widgets/controls",
          "model_name": "ProgressStyleModel",
          "model_module_version": "1.5.0",
          "state": {
            "_model_module": "@jupyter-widgets/controls",
            "_model_module_version": "1.5.0",
            "_model_name": "ProgressStyleModel",
            "_view_count": null,
            "_view_module": "@jupyter-widgets/base",
            "_view_module_version": "1.2.0",
            "_view_name": "StyleView",
            "bar_color": null,
            "description_width": ""
          }
        },
        "583bb68b2a0b4594ba8a43b1056d373b": {
          "model_module": "@jupyter-widgets/base",
          "model_name": "LayoutModel",
          "model_module_version": "1.2.0",
          "state": {
            "_model_module": "@jupyter-widgets/base",
            "_model_module_version": "1.2.0",
            "_model_name": "LayoutModel",
            "_view_count": null,
            "_view_module": "@jupyter-widgets/base",
            "_view_module_version": "1.2.0",
            "_view_name": "LayoutView",
            "align_content": null,
            "align_items": null,
            "align_self": null,
            "border": null,
            "bottom": null,
            "display": null,
            "flex": null,
            "flex_flow": null,
            "grid_area": null,
            "grid_auto_columns": null,
            "grid_auto_flow": null,
            "grid_auto_rows": null,
            "grid_column": null,
            "grid_gap": null,
            "grid_row": null,
            "grid_template_areas": null,
            "grid_template_columns": null,
            "grid_template_rows": null,
            "height": null,
            "justify_content": null,
            "justify_items": null,
            "left": null,
            "margin": null,
            "max_height": null,
            "max_width": null,
            "min_height": null,
            "min_width": null,
            "object_fit": null,
            "object_position": null,
            "order": null,
            "overflow": null,
            "overflow_x": null,
            "overflow_y": null,
            "padding": null,
            "right": null,
            "top": null,
            "visibility": null,
            "width": null
          }
        },
        "7b2055773ef6479f9657b63ef14f60fa": {
          "model_module": "@jupyter-widgets/controls",
          "model_name": "DescriptionStyleModel",
          "model_module_version": "1.5.0",
          "state": {
            "_model_module": "@jupyter-widgets/controls",
            "_model_module_version": "1.5.0",
            "_model_name": "DescriptionStyleModel",
            "_view_count": null,
            "_view_module": "@jupyter-widgets/base",
            "_view_module_version": "1.2.0",
            "_view_name": "StyleView",
            "description_width": ""
          }
        },
        "0d70d48e2b3a4e709bd98983b8547999": {
          "model_module": "@jupyter-widgets/base",
          "model_name": "LayoutModel",
          "model_module_version": "1.2.0",
          "state": {
            "_model_module": "@jupyter-widgets/base",
            "_model_module_version": "1.2.0",
            "_model_name": "LayoutModel",
            "_view_count": null,
            "_view_module": "@jupyter-widgets/base",
            "_view_module_version": "1.2.0",
            "_view_name": "LayoutView",
            "align_content": null,
            "align_items": null,
            "align_self": null,
            "border": null,
            "bottom": null,
            "display": null,
            "flex": null,
            "flex_flow": null,
            "grid_area": null,
            "grid_auto_columns": null,
            "grid_auto_flow": null,
            "grid_auto_rows": null,
            "grid_column": null,
            "grid_gap": null,
            "grid_row": null,
            "grid_template_areas": null,
            "grid_template_columns": null,
            "grid_template_rows": null,
            "height": null,
            "justify_content": null,
            "justify_items": null,
            "left": null,
            "margin": null,
            "max_height": null,
            "max_width": null,
            "min_height": null,
            "min_width": null,
            "object_fit": null,
            "object_position": null,
            "order": null,
            "overflow": null,
            "overflow_x": null,
            "overflow_y": null,
            "padding": null,
            "right": null,
            "top": null,
            "visibility": null,
            "width": null
          }
        },
        "49ca41f0afaf4ecc98547323ffc28ce6": {
          "model_module": "@jupyter-widgets/controls",
          "model_name": "ProgressStyleModel",
          "model_module_version": "1.5.0",
          "state": {
            "_model_module": "@jupyter-widgets/controls",
            "_model_module_version": "1.5.0",
            "_model_name": "ProgressStyleModel",
            "_view_count": null,
            "_view_module": "@jupyter-widgets/base",
            "_view_module_version": "1.2.0",
            "_view_name": "StyleView",
            "bar_color": null,
            "description_width": ""
          }
        },
        "129a61913ff54cab8be47d5de12b6b52": {
          "model_module": "@jupyter-widgets/base",
          "model_name": "LayoutModel",
          "model_module_version": "1.2.0",
          "state": {
            "_model_module": "@jupyter-widgets/base",
            "_model_module_version": "1.2.0",
            "_model_name": "LayoutModel",
            "_view_count": null,
            "_view_module": "@jupyter-widgets/base",
            "_view_module_version": "1.2.0",
            "_view_name": "LayoutView",
            "align_content": null,
            "align_items": null,
            "align_self": null,
            "border": null,
            "bottom": null,
            "display": null,
            "flex": null,
            "flex_flow": null,
            "grid_area": null,
            "grid_auto_columns": null,
            "grid_auto_flow": null,
            "grid_auto_rows": null,
            "grid_column": null,
            "grid_gap": null,
            "grid_row": null,
            "grid_template_areas": null,
            "grid_template_columns": null,
            "grid_template_rows": null,
            "height": null,
            "justify_content": null,
            "justify_items": null,
            "left": null,
            "margin": null,
            "max_height": null,
            "max_width": null,
            "min_height": null,
            "min_width": null,
            "object_fit": null,
            "object_position": null,
            "order": null,
            "overflow": null,
            "overflow_x": null,
            "overflow_y": null,
            "padding": null,
            "right": null,
            "top": null,
            "visibility": null,
            "width": null
          }
        },
        "dcaa0e68ace84c04a9f41be26057064c": {
          "model_module": "@jupyter-widgets/controls",
          "model_name": "DescriptionStyleModel",
          "model_module_version": "1.5.0",
          "state": {
            "_model_module": "@jupyter-widgets/controls",
            "_model_module_version": "1.5.0",
            "_model_name": "DescriptionStyleModel",
            "_view_count": null,
            "_view_module": "@jupyter-widgets/base",
            "_view_module_version": "1.2.0",
            "_view_name": "StyleView",
            "description_width": ""
          }
        },
        "31e045afcb684fedb99e17f58fa7a78d": {
          "model_module": "@jupyter-widgets/base",
          "model_name": "LayoutModel",
          "model_module_version": "1.2.0",
          "state": {
            "_model_module": "@jupyter-widgets/base",
            "_model_module_version": "1.2.0",
            "_model_name": "LayoutModel",
            "_view_count": null,
            "_view_module": "@jupyter-widgets/base",
            "_view_module_version": "1.2.0",
            "_view_name": "LayoutView",
            "align_content": null,
            "align_items": null,
            "align_self": null,
            "border": null,
            "bottom": null,
            "display": null,
            "flex": null,
            "flex_flow": null,
            "grid_area": null,
            "grid_auto_columns": null,
            "grid_auto_flow": null,
            "grid_auto_rows": null,
            "grid_column": null,
            "grid_gap": null,
            "grid_row": null,
            "grid_template_areas": null,
            "grid_template_columns": null,
            "grid_template_rows": null,
            "height": null,
            "justify_content": null,
            "justify_items": null,
            "left": null,
            "margin": null,
            "max_height": null,
            "max_width": null,
            "min_height": null,
            "min_width": null,
            "object_fit": null,
            "object_position": null,
            "order": null,
            "overflow": null,
            "overflow_x": null,
            "overflow_y": null,
            "padding": null,
            "right": null,
            "top": null,
            "visibility": null,
            "width": null
          }
        },
        "e4550bd1e78e4e96a3a1a1de9b9a5fee": {
          "model_module": "@jupyter-widgets/controls",
          "model_name": "DescriptionStyleModel",
          "model_module_version": "1.5.0",
          "state": {
            "_model_module": "@jupyter-widgets/controls",
            "_model_module_version": "1.5.0",
            "_model_name": "DescriptionStyleModel",
            "_view_count": null,
            "_view_module": "@jupyter-widgets/base",
            "_view_module_version": "1.2.0",
            "_view_name": "StyleView",
            "description_width": ""
          }
        },
        "cc46d846d4e7429e90c79c34da277dc9": {
          "model_module": "@jupyter-widgets/controls",
          "model_name": "HTMLModel",
          "model_module_version": "1.5.0",
          "state": {
            "_dom_classes": [],
            "_model_module": "@jupyter-widgets/controls",
            "_model_module_version": "1.5.0",
            "_model_name": "HTMLModel",
            "_view_count": null,
            "_view_module": "@jupyter-widgets/controls",
            "_view_module_version": "1.5.0",
            "_view_name": "HTMLView",
            "description": "",
            "description_tooltip": null,
            "layout": "IPY_MODEL_129a61913ff54cab8be47d5de12b6b52",
            "placeholder": "​",
            "style": "IPY_MODEL_dcaa0e68ace84c04a9f41be26057064c",
            "value": "Processing: 100%"
          }
        },
        "99a9031b57f5436c9166b6d0b6c7ac38": {
          "model_module": "@jupyter-widgets/controls",
          "model_name": "FloatProgressModel",
          "model_module_version": "1.5.0",
          "state": {
            "_dom_classes": [],
            "_model_module": "@jupyter-widgets/controls",
            "_model_module_version": "1.5.0",
            "_model_name": "FloatProgressModel",
            "_view_count": null,
            "_view_module": "@jupyter-widgets/controls",
            "_view_module_version": "1.5.0",
            "_view_name": "ProgressView",
            "bar_style": "",
            "description": "",
            "description_tooltip": null,
            "layout": "IPY_MODEL_0d70d48e2b3a4e709bd98983b8547999",
            "max": 4,
            "min": 0,
            "orientation": "horizontal",
            "style": "IPY_MODEL_49ca41f0afaf4ecc98547323ffc28ce6",
            "value": 4
          }
        },
        "8527d532c13f48f79bbab7fc7932f946": {
          "model_module": "@jupyter-widgets/controls",
          "model_name": "HTMLModel",
          "model_module_version": "1.5.0",
          "state": {
            "_dom_classes": [],
            "_model_module": "@jupyter-widgets/controls",
            "_model_module_version": "1.5.0",
            "_model_name": "HTMLModel",
            "_view_count": null,
            "_view_module": "@jupyter-widgets/controls",
            "_view_module_version": "1.5.0",
            "_view_name": "HTMLView",
            "description": "",
            "description_tooltip": null,
            "layout": "IPY_MODEL_31e045afcb684fedb99e17f58fa7a78d",
            "placeholder": "​",
            "style": "IPY_MODEL_e4550bd1e78e4e96a3a1a1de9b9a5fee",
            "value": " 4/4 [00:04&lt;00:00,  1.15s/it]"
          }
        },
        "93742f76132140ddb593e7a9d2020d7b": {
          "model_module": "@jupyter-widgets/base",
          "model_name": "LayoutModel",
          "model_module_version": "1.2.0",
          "state": {
            "_model_module": "@jupyter-widgets/base",
            "_model_module_version": "1.2.0",
            "_model_name": "LayoutModel",
            "_view_count": null,
            "_view_module": "@jupyter-widgets/base",
            "_view_module_version": "1.2.0",
            "_view_name": "LayoutView",
            "align_content": null,
            "align_items": null,
            "align_self": null,
            "border": null,
            "bottom": null,
            "display": null,
            "flex": null,
            "flex_flow": null,
            "grid_area": null,
            "grid_auto_columns": null,
            "grid_auto_flow": null,
            "grid_auto_rows": null,
            "grid_column": null,
            "grid_gap": null,
            "grid_row": null,
            "grid_template_areas": null,
            "grid_template_columns": null,
            "grid_template_rows": null,
            "height": null,
            "justify_content": null,
            "justify_items": null,
            "left": null,
            "margin": null,
            "max_height": null,
            "max_width": null,
            "min_height": null,
            "min_width": null,
            "object_fit": null,
            "object_position": null,
            "order": null,
            "overflow": null,
            "overflow_x": null,
            "overflow_y": null,
            "padding": null,
            "right": null,
            "top": null,
            "visibility": "hidden",
            "width": null
          }
        },
        "a65d4cfa9540412b899ab89212100084": {
          "model_module": "@jupyter-widgets/controls",
          "model_name": "HBoxModel",
          "model_module_version": "1.5.0",
          "state": {
            "_dom_classes": [],
            "_model_module": "@jupyter-widgets/controls",
            "_model_module_version": "1.5.0",
            "_model_name": "HBoxModel",
            "_view_count": null,
            "_view_module": "@jupyter-widgets/controls",
            "_view_module_version": "1.5.0",
            "_view_name": "HBoxView",
            "box_style": "",
            "children": [
              "IPY_MODEL_cc46d846d4e7429e90c79c34da277dc9",
              "IPY_MODEL_99a9031b57f5436c9166b6d0b6c7ac38",
              "IPY_MODEL_8527d532c13f48f79bbab7fc7932f946"
            ],
            "layout": "IPY_MODEL_93742f76132140ddb593e7a9d2020d7b"
          }
        },
        "9abd5bf0dc7a4167977fe32ec4c66f5c": {
          "model_module": "@jupyter-widgets/base",
          "model_name": "LayoutModel",
          "model_module_version": "1.2.0",
          "state": {
            "_model_module": "@jupyter-widgets/base",
            "_model_module_version": "1.2.0",
            "_model_name": "LayoutModel",
            "_view_count": null,
            "_view_module": "@jupyter-widgets/base",
            "_view_module_version": "1.2.0",
            "_view_name": "LayoutView",
            "align_content": null,
            "align_items": null,
            "align_self": null,
            "border": null,
            "bottom": null,
            "display": null,
            "flex": null,
            "flex_flow": null,
            "grid_area": null,
            "grid_auto_columns": null,
            "grid_auto_flow": null,
            "grid_auto_rows": null,
            "grid_column": null,
            "grid_gap": null,
            "grid_row": null,
            "grid_template_areas": null,
            "grid_template_columns": null,
            "grid_template_rows": null,
            "height": null,
            "justify_content": null,
            "justify_items": null,
            "left": null,
            "margin": null,
            "max_height": null,
            "max_width": null,
            "min_height": null,
            "min_width": null,
            "object_fit": null,
            "object_position": null,
            "order": null,
            "overflow": null,
            "overflow_x": null,
            "overflow_y": null,
            "padding": null,
            "right": null,
            "top": null,
            "visibility": null,
            "width": null
          }
        },
        "0791aa2692774fbfbfc4712e9792ad93": {
          "model_module": "@jupyter-widgets/controls",
          "model_name": "ProgressStyleModel",
          "model_module_version": "1.5.0",
          "state": {
            "_model_module": "@jupyter-widgets/controls",
            "_model_module_version": "1.5.0",
            "_model_name": "ProgressStyleModel",
            "_view_count": null,
            "_view_module": "@jupyter-widgets/base",
            "_view_module_version": "1.2.0",
            "_view_name": "StyleView",
            "bar_color": null,
            "description_width": ""
          }
        },
        "dfcc13201e18491680292aca788d701e": {
          "model_module": "@jupyter-widgets/base",
          "model_name": "LayoutModel",
          "model_module_version": "1.2.0",
          "state": {
            "_model_module": "@jupyter-widgets/base",
            "_model_module_version": "1.2.0",
            "_model_name": "LayoutModel",
            "_view_count": null,
            "_view_module": "@jupyter-widgets/base",
            "_view_module_version": "1.2.0",
            "_view_name": "LayoutView",
            "align_content": null,
            "align_items": null,
            "align_self": null,
            "border": null,
            "bottom": null,
            "display": null,
            "flex": null,
            "flex_flow": null,
            "grid_area": null,
            "grid_auto_columns": null,
            "grid_auto_flow": null,
            "grid_auto_rows": null,
            "grid_column": null,
            "grid_gap": null,
            "grid_row": null,
            "grid_template_areas": null,
            "grid_template_columns": null,
            "grid_template_rows": null,
            "height": null,
            "justify_content": null,
            "justify_items": null,
            "left": null,
            "margin": null,
            "max_height": null,
            "max_width": null,
            "min_height": null,
            "min_width": null,
            "object_fit": null,
            "object_position": null,
            "order": null,
            "overflow": null,
            "overflow_x": null,
            "overflow_y": null,
            "padding": null,
            "right": null,
            "top": null,
            "visibility": null,
            "width": null
          }
        },
        "224b090b398244249ac6ee90c7b9f07f": {
          "model_module": "@jupyter-widgets/controls",
          "model_name": "DescriptionStyleModel",
          "model_module_version": "1.5.0",
          "state": {
            "_model_module": "@jupyter-widgets/controls",
            "_model_module_version": "1.5.0",
            "_model_name": "DescriptionStyleModel",
            "_view_count": null,
            "_view_module": "@jupyter-widgets/base",
            "_view_module_version": "1.2.0",
            "_view_name": "StyleView",
            "description_width": ""
          }
        },
        "cd6fd29c7fe745f1abc2dc89044901bf": {
          "model_module": "@jupyter-widgets/base",
          "model_name": "LayoutModel",
          "model_module_version": "1.2.0",
          "state": {
            "_model_module": "@jupyter-widgets/base",
            "_model_module_version": "1.2.0",
            "_model_name": "LayoutModel",
            "_view_count": null,
            "_view_module": "@jupyter-widgets/base",
            "_view_module_version": "1.2.0",
            "_view_name": "LayoutView",
            "align_content": null,
            "align_items": null,
            "align_self": null,
            "border": null,
            "bottom": null,
            "display": null,
            "flex": null,
            "flex_flow": null,
            "grid_area": null,
            "grid_auto_columns": null,
            "grid_auto_flow": null,
            "grid_auto_rows": null,
            "grid_column": null,
            "grid_gap": null,
            "grid_row": null,
            "grid_template_areas": null,
            "grid_template_columns": null,
            "grid_template_rows": null,
            "height": null,
            "justify_content": null,
            "justify_items": null,
            "left": null,
            "margin": null,
            "max_height": null,
            "max_width": null,
            "min_height": null,
            "min_width": null,
            "object_fit": null,
            "object_position": null,
            "order": null,
            "overflow": null,
            "overflow_x": null,
            "overflow_y": null,
            "padding": null,
            "right": null,
            "top": null,
            "visibility": null,
            "width": null
          }
        },
        "2615d373beec410f9d7eab4411df6c92": {
          "model_module": "@jupyter-widgets/controls",
          "model_name": "DescriptionStyleModel",
          "model_module_version": "1.5.0",
          "state": {
            "_model_module": "@jupyter-widgets/controls",
            "_model_module_version": "1.5.0",
            "_model_name": "DescriptionStyleModel",
            "_view_count": null,
            "_view_module": "@jupyter-widgets/base",
            "_view_module_version": "1.2.0",
            "_view_name": "StyleView",
            "description_width": ""
          }
        },
        "3f5a4af1904849dbb00d76ed6db15424": {
          "model_module": "@jupyter-widgets/controls",
          "model_name": "HTMLModel",
          "model_module_version": "1.5.0",
          "state": {
            "_dom_classes": [],
            "_model_module": "@jupyter-widgets/controls",
            "_model_module_version": "1.5.0",
            "_model_name": "HTMLModel",
            "_view_count": null,
            "_view_module": "@jupyter-widgets/controls",
            "_view_module_version": "1.5.0",
            "_view_name": "HTMLView",
            "description": "",
            "description_tooltip": null,
            "layout": "IPY_MODEL_dfcc13201e18491680292aca788d701e",
            "placeholder": "​",
            "style": "IPY_MODEL_224b090b398244249ac6ee90c7b9f07f",
            "value": "Processing: 100%"
          }
        },
        "23ff7e20323a4b80930c94ddaf2c5396": {
          "model_module": "@jupyter-widgets/controls",
          "model_name": "FloatProgressModel",
          "model_module_version": "1.5.0",
          "state": {
            "_dom_classes": [],
            "_model_module": "@jupyter-widgets/controls",
            "_model_module_version": "1.5.0",
            "_model_name": "FloatProgressModel",
            "_view_count": null,
            "_view_module": "@jupyter-widgets/controls",
            "_view_module_version": "1.5.0",
            "_view_name": "ProgressView",
            "bar_style": "",
            "description": "",
            "description_tooltip": null,
            "layout": "IPY_MODEL_9abd5bf0dc7a4167977fe32ec4c66f5c",
            "max": 7,
            "min": 0,
            "orientation": "horizontal",
            "style": "IPY_MODEL_0791aa2692774fbfbfc4712e9792ad93",
            "value": 7
          }
        },
        "8e32fcd4901b4aba9e983a88d1ef9f4c": {
          "model_module": "@jupyter-widgets/controls",
          "model_name": "HTMLModel",
          "model_module_version": "1.5.0",
          "state": {
            "_dom_classes": [],
            "_model_module": "@jupyter-widgets/controls",
            "_model_module_version": "1.5.0",
            "_model_name": "HTMLModel",
            "_view_count": null,
            "_view_module": "@jupyter-widgets/controls",
            "_view_module_version": "1.5.0",
            "_view_name": "HTMLView",
            "description": "",
            "description_tooltip": null,
            "layout": "IPY_MODEL_cd6fd29c7fe745f1abc2dc89044901bf",
            "placeholder": "​",
            "style": "IPY_MODEL_2615d373beec410f9d7eab4411df6c92",
            "value": " 7/7 [01:10&lt;00:00,  7.85s/it]"
          }
        },
        "2ab180dde3694b029c11f5347ced99b4": {
          "model_module": "@jupyter-widgets/base",
          "model_name": "LayoutModel",
          "model_module_version": "1.2.0",
          "state": {
            "_model_module": "@jupyter-widgets/base",
            "_model_module_version": "1.2.0",
            "_model_name": "LayoutModel",
            "_view_count": null,
            "_view_module": "@jupyter-widgets/base",
            "_view_module_version": "1.2.0",
            "_view_name": "LayoutView",
            "align_content": null,
            "align_items": null,
            "align_self": null,
            "border": null,
            "bottom": null,
            "display": null,
            "flex": null,
            "flex_flow": null,
            "grid_area": null,
            "grid_auto_columns": null,
            "grid_auto_flow": null,
            "grid_auto_rows": null,
            "grid_column": null,
            "grid_gap": null,
            "grid_row": null,
            "grid_template_areas": null,
            "grid_template_columns": null,
            "grid_template_rows": null,
            "height": null,
            "justify_content": null,
            "justify_items": null,
            "left": null,
            "margin": null,
            "max_height": null,
            "max_width": null,
            "min_height": null,
            "min_width": null,
            "object_fit": null,
            "object_position": null,
            "order": null,
            "overflow": null,
            "overflow_x": null,
            "overflow_y": null,
            "padding": null,
            "right": null,
            "top": null,
            "visibility": "hidden",
            "width": null
          }
        },
        "9c93c7a0082f4550acb1bf39c5b310c4": {
          "model_module": "@jupyter-widgets/controls",
          "model_name": "HBoxModel",
          "model_module_version": "1.5.0",
          "state": {
            "_dom_classes": [],
            "_model_module": "@jupyter-widgets/controls",
            "_model_module_version": "1.5.0",
            "_model_name": "HBoxModel",
            "_view_count": null,
            "_view_module": "@jupyter-widgets/controls",
            "_view_module_version": "1.5.0",
            "_view_name": "HBoxView",
            "box_style": "",
            "children": [
              "IPY_MODEL_3f5a4af1904849dbb00d76ed6db15424",
              "IPY_MODEL_23ff7e20323a4b80930c94ddaf2c5396",
              "IPY_MODEL_8e32fcd4901b4aba9e983a88d1ef9f4c"
            ],
            "layout": "IPY_MODEL_2ab180dde3694b029c11f5347ced99b4"
          }
        }
      }
    }
  },
  "cells": [
    {
      "cell_type": "code",
      "source": [
        "import pandas as pd\n",
        "import numpy as np\n",
        "import matplotlib.pyplot as plt\n",
        "import seaborn as sns\n"
      ],
      "metadata": {
        "id": "ln9SZifHVRib"
      },
      "execution_count": 2,
      "outputs": []
    },
    {
      "cell_type": "code",
      "source": [
        "file_path = \"/content/netflix_titles data.xlsx\"\n",
        "df = pd.read_excel(file_path)"
      ],
      "metadata": {
        "id": "imWcHYIEWRnx"
      },
      "execution_count": 3,
      "outputs": []
    },
    {
      "cell_type": "code",
      "source": [
        "df.head()\n",
        "df.info()\n",
        "df.describe()"
      ],
      "metadata": {
        "colab": {
          "base_uri": "https://localhost:8080/",
          "height": 668
        },
        "id": "v_FlRO21Wx4L",
        "outputId": "31d975ca-cb0e-43f5-d836-038daa4b670c"
      },
      "execution_count": 4,
      "outputs": [
        {
          "output_type": "stream",
          "name": "stdout",
          "text": [
            "<class 'pandas.core.frame.DataFrame'>\n",
            "RangeIndex: 5279 entries, 0 to 5278\n",
            "Data columns (total 13 columns):\n",
            " #   Column        Non-Null Count  Dtype \n",
            "---  ------        --------------  ----- \n",
            " 0   show_id       5279 non-null   object\n",
            " 1   type          5279 non-null   object\n",
            " 2   title         5279 non-null   object\n",
            " 3   director      5279 non-null   object\n",
            " 4   cast          5279 non-null   object\n",
            " 5   country       5279 non-null   object\n",
            " 6   date_added    5279 non-null   object\n",
            " 7   release_year  5279 non-null   int64 \n",
            " 8   duration      5279 non-null   object\n",
            " 9   listed_in     5279 non-null   object\n",
            " 10  description   5279 non-null   object\n",
            " 11  Unnamed: 11   5 non-null      object\n",
            " 12  Unnamed: 12   1 non-null      object\n",
            "dtypes: int64(1), object(12)\n",
            "memory usage: 536.3+ KB\n"
          ]
        },
        {
          "output_type": "execute_result",
          "data": {
            "text/plain": [
              "       release_year\n",
              "count   5279.000000\n",
              "mean    2012.698049\n",
              "std        9.656831\n",
              "min     1942.000000\n",
              "25%     2011.000000\n",
              "50%     2016.000000\n",
              "75%     2018.000000\n",
              "max     2021.000000"
            ],
            "text/html": [
              "\n",
              "  <div id=\"df-a7cac7f6-b073-4321-8820-1e728fcae6a6\" class=\"colab-df-container\">\n",
              "    <div>\n",
              "<style scoped>\n",
              "    .dataframe tbody tr th:only-of-type {\n",
              "        vertical-align: middle;\n",
              "    }\n",
              "\n",
              "    .dataframe tbody tr th {\n",
              "        vertical-align: top;\n",
              "    }\n",
              "\n",
              "    .dataframe thead th {\n",
              "        text-align: right;\n",
              "    }\n",
              "</style>\n",
              "<table border=\"1\" class=\"dataframe\">\n",
              "  <thead>\n",
              "    <tr style=\"text-align: right;\">\n",
              "      <th></th>\n",
              "      <th>release_year</th>\n",
              "    </tr>\n",
              "  </thead>\n",
              "  <tbody>\n",
              "    <tr>\n",
              "      <th>count</th>\n",
              "      <td>5279.000000</td>\n",
              "    </tr>\n",
              "    <tr>\n",
              "      <th>mean</th>\n",
              "      <td>2012.698049</td>\n",
              "    </tr>\n",
              "    <tr>\n",
              "      <th>std</th>\n",
              "      <td>9.656831</td>\n",
              "    </tr>\n",
              "    <tr>\n",
              "      <th>min</th>\n",
              "      <td>1942.000000</td>\n",
              "    </tr>\n",
              "    <tr>\n",
              "      <th>25%</th>\n",
              "      <td>2011.000000</td>\n",
              "    </tr>\n",
              "    <tr>\n",
              "      <th>50%</th>\n",
              "      <td>2016.000000</td>\n",
              "    </tr>\n",
              "    <tr>\n",
              "      <th>75%</th>\n",
              "      <td>2018.000000</td>\n",
              "    </tr>\n",
              "    <tr>\n",
              "      <th>max</th>\n",
              "      <td>2021.000000</td>\n",
              "    </tr>\n",
              "  </tbody>\n",
              "</table>\n",
              "</div>\n",
              "    <div class=\"colab-df-buttons\">\n",
              "\n",
              "  <div class=\"colab-df-container\">\n",
              "    <button class=\"colab-df-convert\" onclick=\"convertToInteractive('df-a7cac7f6-b073-4321-8820-1e728fcae6a6')\"\n",
              "            title=\"Convert this dataframe to an interactive table.\"\n",
              "            style=\"display:none;\">\n",
              "\n",
              "  <svg xmlns=\"http://www.w3.org/2000/svg\" height=\"24px\" viewBox=\"0 -960 960 960\">\n",
              "    <path d=\"M120-120v-720h720v720H120Zm60-500h600v-160H180v160Zm220 220h160v-160H400v160Zm0 220h160v-160H400v160ZM180-400h160v-160H180v160Zm440 0h160v-160H620v160ZM180-180h160v-160H180v160Zm440 0h160v-160H620v160Z\"/>\n",
              "  </svg>\n",
              "    </button>\n",
              "\n",
              "  <style>\n",
              "    .colab-df-container {\n",
              "      display:flex;\n",
              "      gap: 12px;\n",
              "    }\n",
              "\n",
              "    .colab-df-convert {\n",
              "      background-color: #E8F0FE;\n",
              "      border: none;\n",
              "      border-radius: 50%;\n",
              "      cursor: pointer;\n",
              "      display: none;\n",
              "      fill: #1967D2;\n",
              "      height: 32px;\n",
              "      padding: 0 0 0 0;\n",
              "      width: 32px;\n",
              "    }\n",
              "\n",
              "    .colab-df-convert:hover {\n",
              "      background-color: #E2EBFA;\n",
              "      box-shadow: 0px 1px 2px rgba(60, 64, 67, 0.3), 0px 1px 3px 1px rgba(60, 64, 67, 0.15);\n",
              "      fill: #174EA6;\n",
              "    }\n",
              "\n",
              "    .colab-df-buttons div {\n",
              "      margin-bottom: 4px;\n",
              "    }\n",
              "\n",
              "    [theme=dark] .colab-df-convert {\n",
              "      background-color: #3B4455;\n",
              "      fill: #D2E3FC;\n",
              "    }\n",
              "\n",
              "    [theme=dark] .colab-df-convert:hover {\n",
              "      background-color: #434B5C;\n",
              "      box-shadow: 0px 1px 3px 1px rgba(0, 0, 0, 0.15);\n",
              "      filter: drop-shadow(0px 1px 2px rgba(0, 0, 0, 0.3));\n",
              "      fill: #FFFFFF;\n",
              "    }\n",
              "  </style>\n",
              "\n",
              "    <script>\n",
              "      const buttonEl =\n",
              "        document.querySelector('#df-a7cac7f6-b073-4321-8820-1e728fcae6a6 button.colab-df-convert');\n",
              "      buttonEl.style.display =\n",
              "        google.colab.kernel.accessAllowed ? 'block' : 'none';\n",
              "\n",
              "      async function convertToInteractive(key) {\n",
              "        const element = document.querySelector('#df-a7cac7f6-b073-4321-8820-1e728fcae6a6');\n",
              "        const dataTable =\n",
              "          await google.colab.kernel.invokeFunction('convertToInteractive',\n",
              "                                                    [key], {});\n",
              "        if (!dataTable) return;\n",
              "\n",
              "        const docLinkHtml = 'Like what you see? Visit the ' +\n",
              "          '<a target=\"_blank\" href=https://colab.research.google.com/notebooks/data_table.ipynb>data table notebook</a>'\n",
              "          + ' to learn more about interactive tables.';\n",
              "        element.innerHTML = '';\n",
              "        dataTable['output_type'] = 'display_data';\n",
              "        await google.colab.output.renderOutput(dataTable, element);\n",
              "        const docLink = document.createElement('div');\n",
              "        docLink.innerHTML = docLinkHtml;\n",
              "        element.appendChild(docLink);\n",
              "      }\n",
              "    </script>\n",
              "  </div>\n",
              "\n",
              "\n",
              "<div id=\"df-7bfeeeec-3de9-475f-9ef9-86f9778875fc\">\n",
              "  <button class=\"colab-df-quickchart\" onclick=\"quickchart('df-7bfeeeec-3de9-475f-9ef9-86f9778875fc')\"\n",
              "            title=\"Suggest charts\"\n",
              "            style=\"display:none;\">\n",
              "\n",
              "<svg xmlns=\"http://www.w3.org/2000/svg\" height=\"24px\"viewBox=\"0 0 24 24\"\n",
              "     width=\"24px\">\n",
              "    <g>\n",
              "        <path d=\"M19 3H5c-1.1 0-2 .9-2 2v14c0 1.1.9 2 2 2h14c1.1 0 2-.9 2-2V5c0-1.1-.9-2-2-2zM9 17H7v-7h2v7zm4 0h-2V7h2v10zm4 0h-2v-4h2v4z\"/>\n",
              "    </g>\n",
              "</svg>\n",
              "  </button>\n",
              "\n",
              "<style>\n",
              "  .colab-df-quickchart {\n",
              "      --bg-color: #E8F0FE;\n",
              "      --fill-color: #1967D2;\n",
              "      --hover-bg-color: #E2EBFA;\n",
              "      --hover-fill-color: #174EA6;\n",
              "      --disabled-fill-color: #AAA;\n",
              "      --disabled-bg-color: #DDD;\n",
              "  }\n",
              "\n",
              "  [theme=dark] .colab-df-quickchart {\n",
              "      --bg-color: #3B4455;\n",
              "      --fill-color: #D2E3FC;\n",
              "      --hover-bg-color: #434B5C;\n",
              "      --hover-fill-color: #FFFFFF;\n",
              "      --disabled-bg-color: #3B4455;\n",
              "      --disabled-fill-color: #666;\n",
              "  }\n",
              "\n",
              "  .colab-df-quickchart {\n",
              "    background-color: var(--bg-color);\n",
              "    border: none;\n",
              "    border-radius: 50%;\n",
              "    cursor: pointer;\n",
              "    display: none;\n",
              "    fill: var(--fill-color);\n",
              "    height: 32px;\n",
              "    padding: 0;\n",
              "    width: 32px;\n",
              "  }\n",
              "\n",
              "  .colab-df-quickchart:hover {\n",
              "    background-color: var(--hover-bg-color);\n",
              "    box-shadow: 0 1px 2px rgba(60, 64, 67, 0.3), 0 1px 3px 1px rgba(60, 64, 67, 0.15);\n",
              "    fill: var(--button-hover-fill-color);\n",
              "  }\n",
              "\n",
              "  .colab-df-quickchart-complete:disabled,\n",
              "  .colab-df-quickchart-complete:disabled:hover {\n",
              "    background-color: var(--disabled-bg-color);\n",
              "    fill: var(--disabled-fill-color);\n",
              "    box-shadow: none;\n",
              "  }\n",
              "\n",
              "  .colab-df-spinner {\n",
              "    border: 2px solid var(--fill-color);\n",
              "    border-color: transparent;\n",
              "    border-bottom-color: var(--fill-color);\n",
              "    animation:\n",
              "      spin 1s steps(1) infinite;\n",
              "  }\n",
              "\n",
              "  @keyframes spin {\n",
              "    0% {\n",
              "      border-color: transparent;\n",
              "      border-bottom-color: var(--fill-color);\n",
              "      border-left-color: var(--fill-color);\n",
              "    }\n",
              "    20% {\n",
              "      border-color: transparent;\n",
              "      border-left-color: var(--fill-color);\n",
              "      border-top-color: var(--fill-color);\n",
              "    }\n",
              "    30% {\n",
              "      border-color: transparent;\n",
              "      border-left-color: var(--fill-color);\n",
              "      border-top-color: var(--fill-color);\n",
              "      border-right-color: var(--fill-color);\n",
              "    }\n",
              "    40% {\n",
              "      border-color: transparent;\n",
              "      border-right-color: var(--fill-color);\n",
              "      border-top-color: var(--fill-color);\n",
              "    }\n",
              "    60% {\n",
              "      border-color: transparent;\n",
              "      border-right-color: var(--fill-color);\n",
              "    }\n",
              "    80% {\n",
              "      border-color: transparent;\n",
              "      border-right-color: var(--fill-color);\n",
              "      border-bottom-color: var(--fill-color);\n",
              "    }\n",
              "    90% {\n",
              "      border-color: transparent;\n",
              "      border-bottom-color: var(--fill-color);\n",
              "    }\n",
              "  }\n",
              "</style>\n",
              "\n",
              "  <script>\n",
              "    async function quickchart(key) {\n",
              "      const quickchartButtonEl =\n",
              "        document.querySelector('#' + key + ' button');\n",
              "      quickchartButtonEl.disabled = true;  // To prevent multiple clicks.\n",
              "      quickchartButtonEl.classList.add('colab-df-spinner');\n",
              "      try {\n",
              "        const charts = await google.colab.kernel.invokeFunction(\n",
              "            'suggestCharts', [key], {});\n",
              "      } catch (error) {\n",
              "        console.error('Error during call to suggestCharts:', error);\n",
              "      }\n",
              "      quickchartButtonEl.classList.remove('colab-df-spinner');\n",
              "      quickchartButtonEl.classList.add('colab-df-quickchart-complete');\n",
              "    }\n",
              "    (() => {\n",
              "      let quickchartButtonEl =\n",
              "        document.querySelector('#df-7bfeeeec-3de9-475f-9ef9-86f9778875fc button');\n",
              "      quickchartButtonEl.style.display =\n",
              "        google.colab.kernel.accessAllowed ? 'block' : 'none';\n",
              "    })();\n",
              "  </script>\n",
              "</div>\n",
              "\n",
              "    </div>\n",
              "  </div>\n"
            ],
            "application/vnd.google.colaboratory.intrinsic+json": {
              "type": "dataframe",
              "summary": "{\n  \"name\": \"df\",\n  \"rows\": 8,\n  \"fields\": [\n    {\n      \"column\": \"release_year\",\n      \"properties\": {\n        \"dtype\": \"number\",\n        \"std\": 1439.428105369939,\n        \"min\": 9.656831451953375,\n        \"max\": 5279.0,\n        \"num_unique_values\": 8,\n        \"samples\": [\n          2012.6980488728925,\n          2016.0,\n          5279.0\n        ],\n        \"semantic_type\": \"\",\n        \"description\": \"\"\n      }\n    }\n  ]\n}"
            }
          },
          "metadata": {},
          "execution_count": 4
        }
      ]
    },
    {
      "cell_type": "code",
      "source": [
        "df.isnull().sum()"
      ],
      "metadata": {
        "colab": {
          "base_uri": "https://localhost:8080/",
          "height": 492
        },
        "id": "Mi91y5PNW46b",
        "outputId": "916f4c39-378f-4f63-f529-79a783b0140b"
      },
      "execution_count": 5,
      "outputs": [
        {
          "output_type": "execute_result",
          "data": {
            "text/plain": [
              "show_id            0\n",
              "type               0\n",
              "title              0\n",
              "director           0\n",
              "cast               0\n",
              "country            0\n",
              "date_added         0\n",
              "release_year       0\n",
              "duration           0\n",
              "listed_in          0\n",
              "description        0\n",
              "Unnamed: 11     5274\n",
              "Unnamed: 12     5278\n",
              "dtype: int64"
            ],
            "text/html": [
              "<div>\n",
              "<style scoped>\n",
              "    .dataframe tbody tr th:only-of-type {\n",
              "        vertical-align: middle;\n",
              "    }\n",
              "\n",
              "    .dataframe tbody tr th {\n",
              "        vertical-align: top;\n",
              "    }\n",
              "\n",
              "    .dataframe thead th {\n",
              "        text-align: right;\n",
              "    }\n",
              "</style>\n",
              "<table border=\"1\" class=\"dataframe\">\n",
              "  <thead>\n",
              "    <tr style=\"text-align: right;\">\n",
              "      <th></th>\n",
              "      <th>0</th>\n",
              "    </tr>\n",
              "  </thead>\n",
              "  <tbody>\n",
              "    <tr>\n",
              "      <th>show_id</th>\n",
              "      <td>0</td>\n",
              "    </tr>\n",
              "    <tr>\n",
              "      <th>type</th>\n",
              "      <td>0</td>\n",
              "    </tr>\n",
              "    <tr>\n",
              "      <th>title</th>\n",
              "      <td>0</td>\n",
              "    </tr>\n",
              "    <tr>\n",
              "      <th>director</th>\n",
              "      <td>0</td>\n",
              "    </tr>\n",
              "    <tr>\n",
              "      <th>cast</th>\n",
              "      <td>0</td>\n",
              "    </tr>\n",
              "    <tr>\n",
              "      <th>country</th>\n",
              "      <td>0</td>\n",
              "    </tr>\n",
              "    <tr>\n",
              "      <th>date_added</th>\n",
              "      <td>0</td>\n",
              "    </tr>\n",
              "    <tr>\n",
              "      <th>release_year</th>\n",
              "      <td>0</td>\n",
              "    </tr>\n",
              "    <tr>\n",
              "      <th>duration</th>\n",
              "      <td>0</td>\n",
              "    </tr>\n",
              "    <tr>\n",
              "      <th>listed_in</th>\n",
              "      <td>0</td>\n",
              "    </tr>\n",
              "    <tr>\n",
              "      <th>description</th>\n",
              "      <td>0</td>\n",
              "    </tr>\n",
              "    <tr>\n",
              "      <th>Unnamed: 11</th>\n",
              "      <td>5274</td>\n",
              "    </tr>\n",
              "    <tr>\n",
              "      <th>Unnamed: 12</th>\n",
              "      <td>5278</td>\n",
              "    </tr>\n",
              "  </tbody>\n",
              "</table>\n",
              "</div><br><label><b>dtype:</b> int64</label>"
            ]
          },
          "metadata": {},
          "execution_count": 5
        }
      ]
    },
    {
      "cell_type": "code",
      "source": [
        "df = df.drop(columns=['Unnamed: 11', 'Unnamed: 12'])"
      ],
      "metadata": {
        "id": "PgKhXSehXKny"
      },
      "execution_count": 6,
      "outputs": []
    },
    {
      "cell_type": "code",
      "source": [
        "print(df.columns)"
      ],
      "metadata": {
        "colab": {
          "base_uri": "https://localhost:8080/"
        },
        "id": "aNcF7OjxXOG2",
        "outputId": "d4e25630-435a-435f-d981-3090463339fc"
      },
      "execution_count": 7,
      "outputs": [
        {
          "output_type": "stream",
          "name": "stdout",
          "text": [
            "Index(['show_id', 'type', 'title', 'director', 'cast', 'country', 'date_added',\n",
            "       'release_year', 'duration', 'listed_in', 'description'],\n",
            "      dtype='object')\n"
          ]
        }
      ]
    },
    {
      "cell_type": "code",
      "source": [
        "pivot_df = df.pivot_table(index=\"release_year\", columns=\"type\", aggfunc=\"size\", fill_value=0)\n",
        "print(pivot_df.head(10))"
      ],
      "metadata": {
        "colab": {
          "base_uri": "https://localhost:8080/"
        },
        "id": "_Ic8ZLHwXjja",
        "outputId": "77da11fb-f5e8-44c1-bbde-743aa1fdcbb5"
      },
      "execution_count": 8,
      "outputs": [
        {
          "output_type": "stream",
          "name": "stdout",
          "text": [
            "type          Movie  TV Show\n",
            "release_year                \n",
            "1942              1        0\n",
            "1944              1        0\n",
            "1945              1        0\n",
            "1946              1        0\n",
            "1947              1        0\n",
            "1954              2        0\n",
            "1955              3        0\n",
            "1956              2        0\n",
            "1958              3        0\n",
            "1959              1        0\n"
          ]
        }
      ]
    },
    {
      "cell_type": "code",
      "source": [
        "pivot_country = df.pivot_table(index=\"country\", columns=\"type\", aggfunc=\"size\", fill_value=0)\n",
        "pivot_country = pivot_country.sort_values(by=[\"Movie\", \"TV Show\"], ascending=False)\n",
        "print(pivot_country.head(10))"
      ],
      "metadata": {
        "colab": {
          "base_uri": "https://localhost:8080/"
        },
        "id": "TR8QC240YJFX",
        "outputId": "3242f803-475c-4748-d67d-53751efb94ba"
      },
      "execution_count": 9,
      "outputs": [
        {
          "output_type": "stream",
          "name": "stdout",
          "text": [
            "type            Movie  TV Show\n",
            "country                       \n",
            "United States    1816       27\n",
            "India             868        7\n",
            "United Kingdom    164       19\n",
            "Canada            104        3\n",
            "Egypt              90        0\n",
            "Nigeria            84        4\n",
            "Indonesia          76        0\n",
            "Spain              74        7\n",
            "Turkey             74        5\n",
            "Japan              73       10\n"
          ]
        }
      ]
    },
    {
      "cell_type": "code",
      "source": [
        "pivot_genre = df.pivot_table(index=\"listed_in\", columns=\"type\", aggfunc=\"size\", fill_value=0)\n",
        "pivot_genre = pivot_genre.sort_values(by=[\"Movie\", \"TV Show\"], ascending=False)\n",
        "print(pivot_genre.head(10))"
      ],
      "metadata": {
        "colab": {
          "base_uri": "https://localhost:8080/"
        },
        "id": "IVPbZGffYMLH",
        "outputId": "26f6be24-f302-40ea-a3e7-95eaa7585819"
      },
      "execution_count": 10,
      "outputs": [
        {
          "output_type": "stream",
          "name": "stdout",
          "text": [
            "type                                              Movie  TV Show\n",
            "listed_in                                                       \n",
            "Dramas, International Movies                        333        0\n",
            "Stand-Up Comedy                                     279        0\n",
            "Comedies, Dramas, International Movies              253        0\n",
            "Dramas, Independent Movies, International Movies    236        0\n",
            "Children & Family Movies, Comedies                  179        0\n",
            "Dramas, International Movies, Romantic Movies       157        0\n",
            "Documentaries                                       156        0\n",
            "Comedies, International Movies                      150        0\n",
            "Comedies, International Movies, Romantic Movies     138        0\n",
            "Dramas                                              134        0\n"
          ]
        }
      ]
    },
    {
      "cell_type": "code",
      "source": [
        "import matplotlib.pyplot as plt\n",
        "\n",
        "pivot_df.plot(kind=\"bar\", figsize=(15,6), stacked=True, colormap=\"coolwarm\")\n",
        "plt.title(\"Number of Movies & TV Shows per Year\")\n",
        "plt.xlabel(\"Year\")\n",
        "plt.ylabel(\"Count\")\n",
        "plt.legend(title=\"Content Type\")\n",
        "plt.show()"
      ],
      "metadata": {
        "colab": {
          "base_uri": "https://localhost:8080/",
          "height": 443
        },
        "id": "AfKx5sR6YUSn",
        "outputId": "1b8b2259-bb90-4375-ee5c-2d8c00d057bf"
      },
      "execution_count": 11,
      "outputs": [
        {
          "output_type": "display_data",
          "data": {
            "text/plain": [
              "<Figure size 1500x600 with 1 Axes>"
            ],
            "image/png": "[encoded data removed]"
          },
          "metadata": {}
        }
      ]
    },
    {
      "cell_type": "code",
      "source": [
        "pivot_country.head(10).plot(kind=\"bar\", figsize=(12,6), stacked=True, colormap=\"viridis\")\n",
        "plt.title(\"Top 10 Countries Producing Movies & TV Shows\")\n",
        "plt.xlabel(\"Country\")\n",
        "plt.ylabel(\"Count\")\n",
        "plt.legend(title=\"Content Type\")\n",
        "plt.show()"
      ],
      "metadata": {
        "colab": {
          "base_uri": "https://localhost:8080/",
          "height": 601
        },
        "id": "nMSBnrVVYUVb",
        "outputId": "dc11f1b8-0e30-4ec1-92d3-7fa73ec25dea"
      },
      "execution_count": 12,
      "outputs": [
        {
          "output_type": "display_data",
          "data": {
            "text/plain": [
              "<Figure size 1200x600 with 1 Axes>"
            ],
            "image/png": "[encoded data removed]"
          },
          "metadata": {}
        }
      ]
    },
    {
      "cell_type": "code",
      "source": [
        "pivot_genre.head(10).plot(kind=\"barh\", figsize=(12,6), stacked=True, colormap=\"plasma\")\n",
        "plt.title(\"Top 10 Most Produced Content Genres\")\n",
        "plt.xlabel(\"Count\")\n",
        "plt.ylabel(\"Genre\")\n",
        "plt.legend(title=\"Content Type\")\n",
        "plt.show()\n"
      ],
      "metadata": {
        "colab": {
          "base_uri": "https://localhost:8080/",
          "height": 412
        },
        "id": "pCTKbhZUYi0c",
        "outputId": "1de658f0-5141-45a6-858b-715674362d39"
      },
      "execution_count": 13,
      "outputs": [
        {
          "output_type": "display_data",
          "data": {
            "text/plain": [
              "<Figure size 1200x600 with 1 Axes>"
            ],
            "image/png": "[encoded data removed]"
          },
          "metadata": {}
        }
      ]
    },
    {
      "cell_type": "code",
      "source": [
        "plt.figure(figsize=(14, 6))\n",
        "sns.histplot(data=df, x=\"release_year\", hue=\"type\", multiple=\"stack\", bins=30, palette=\"coolwarm\")\n",
        "plt.title(\"Distribution of Movies & TV Shows Over the Years\", fontsize=14, fontweight=\"bold\")\n",
        "plt.xlabel(\"Release Year\", fontsize=12)\n",
        "plt.ylabel(\"Count\", fontsize=12)\n",
        "plt.xticks(rotation=45)\n",
        "plt.legend(title=\"Content Type\")\n",
        "plt.grid(axis=\"y\", linestyle=\"--\", alpha=0.7)\n",
        "plt.show()\n"
      ],
      "metadata": {
        "colab": {
          "base_uri": "https://localhost:8080/",
          "height": 509
        },
        "id": "c6PgDAAlYw_V",
        "outputId": "d07b76b1-c471-44ab-a640-7476030fda8e"
      },
      "execution_count": 14,
      "outputs": [
        {
          "output_type": "stream",
          "name": "stderr",
          "text": [
            "WARNING:matplotlib.legend:No artists with labels found to put in legend.  Note that artists whose label start with an underscore are ignored when legend() is called with no argument.\n"
          ]
        },
        {
          "output_type": "display_data",
          "data": {
            "text/plain": [
              "<Figure size 1400x600 with 1 Axes>"
            ],
            "image/png": "[encoded data removed]"
          },
          "metadata": {}
        }
      ]
    },
    {
      "cell_type": "code",
      "source": [
        "top_countries = df['country'].value_counts().head(10)\n",
        "plt.figure(figsize=(12, 6))\n",
        "sns.barplot(x=top_countries.values, y=top_countries.index, palette=\"viridis\")\n",
        "plt.title(\"Top 10 Countries Producing Content on Netflix\", fontsize=14, fontweight=\"bold\")\n",
        "plt.xlabel(\"Number of Titles\", fontsize=12)\n",
        "plt.ylabel(\"Country\", fontsize=12)\n",
        "plt.grid(axis=\"x\", linestyle=\"--\", alpha=0.7)\n",
        "plt.show()\n"
      ],
      "metadata": {
        "colab": {
          "base_uri": "https://localhost:8080/",
          "height": 492
        },
        "id": "aLBMdd9NY5rK",
        "outputId": "5a93d7e8-ba8a-464f-fe67-e74629620432"
      },
      "execution_count": 15,
      "outputs": [
        {
          "output_type": "display_data",
          "data": {
            "text/plain": [
              "<Figure size 1200x600 with 1 Axes>"
            ],
            "image/png": "[encoded data removed]"
          },
          "metadata": {}
        }
      ]
    },
    {
      "cell_type": "code",
      "source": [
        "top_genres = df['listed_in'].value_counts().head(10)\n",
        "plt.figure(figsize=(12, 6))\n",
        "sns.barplot(y=top_genres.index, x=top_genres.values, palette=\"magma\")\n",
        "plt.title(\"Top 10 Most Popular Content Genres on Netflix\", fontsize=14, fontweight=\"bold\")\n",
        "plt.xlabel(\"Number of Titles\", fontsize=12)\n",
        "plt.ylabel(\"Genre\", fontsize=12)\n",
        "plt.grid(axis=\"x\", linestyle=\"--\", alpha=0.7)\n",
        "plt.show()\n"
      ],
      "metadata": {
        "colab": {
          "base_uri": "https://localhost:8080/",
          "height": 413
        },
        "id": "V8-Horm4ZJjY",
        "outputId": "43aad782-491b-458c-fc0c-fb0bd74bbc59"
      },
      "execution_count": 16,
      "outputs": [
        {
          "output_type": "display_data",
          "data": {
            "text/plain": [
              "<Figure size 1200x600 with 1 Axes>"
            ],
            "image/png": "[encoded data removed]"
          },
          "metadata": {}
        }
      ]
    },
    {
      "cell_type": "code",
      "source": [
        "plt.figure(figsize=(6,6))\n",
        "colors = [\"#ff9999\",\"#66b3ff\"]\n",
        "df[\"type\"].value_counts().plot.pie(autopct=\"%1.1f%%\", startangle=90, colors=colors, explode=[0.05, 0.05])\n",
        "plt.title(\"Percentage of Movies vs TV Shows on Netflix\", fontsize=14, fontweight=\"bold\")\n",
        "plt.ylabel(\"\")\n",
        "plt.show()\n"
      ],
      "metadata": {
        "colab": {
          "base_uri": "https://localhost:8080/",
          "height": 520
        },
        "id": "Lmvn9Yc_ZQ8B",
        "outputId": "2cad51cd-a0d6-480e-e22a-a715f03236af"
      },
      "execution_count": 17,
      "outputs": [
        {
          "output_type": "display_data",
          "data": {
            "text/plain": [
              "<Figure size 600x600 with 1 Axes>"
            ],
            "image/png": "[encoded data removed]"
          },
          "metadata": {}
        }
      ]
    },
    {
      "cell_type": "code",
      "source": [
        "from pycaret.classification import *\n",
        "df[\"release_year\"] = df[\"release_year\"].astype(int)\n",
        "df = df.dropna(subset=[\"release_year\", \"type\"])\n",
        "\n",
        "# إعداد بيئة التعلم الآلي\n",
        "exp = setup(df, target=\"type\", train_size=0.8, session_id=123)\n"
      ],
      "metadata": {
        "colab": {
          "base_uri": "https://localhost:8080/",
          "height": 771
        },
        "id": "LviWQUx-ZeLP",
        "outputId": "3423b329-f1a0-420d-de25-4ed03af7b392"
      },
      "execution_count": 19,
      "outputs": [
        {
          "output_type": "display_data",
          "data": {
            "text/plain": [
              "<pandas.io.formats.style.Styler at 0x7ac9fbf6be90>"
            ],
            "text/html": [
              "<style type=\"text/css\">\n",
              "#T_80459_row10_col1 {\n",
              "  background-color: lightgreen;\n",
              "}\n",
              "</style>\n",
              "<table id=\"T_80459\" class=\"dataframe\">\n",
              "  <thead>\n",
              "    <tr>\n",
              "      <th class=\"blank level0\" >&nbsp;</th>\n",
              "      <th id=\"T_80459_level0_col0\" class=\"col_heading level0 col0\" >Description</th>\n",
              "      <th id=\"T_80459_level0_col1\" class=\"col_heading level0 col1\" >Value</th>\n",
              "    </tr>\n",
              "  </thead>\n",
              "  <tbody>\n",
              "    <tr>\n",
              "      <th id=\"T_80459_level0_row0\" class=\"row_heading level0 row0\" >0</th>\n",
              "      <td id=\"T_80459_row0_col0\" class=\"data row0 col0\" >Session id</td>\n",
              "      <td id=\"T_80459_row0_col1\" class=\"data row0 col1\" >123</td>\n",
              "    </tr>\n",
              "    <tr>\n",
              "      <th id=\"T_80459_level0_row1\" class=\"row_heading level0 row1\" >1</th>\n",
              "      <td id=\"T_80459_row1_col0\" class=\"data row1 col0\" >Target</td>\n",
              "      <td id=\"T_80459_row1_col1\" class=\"data row1 col1\" >type</td>\n",
              "    </tr>\n",
              "    <tr>\n",
              "      <th id=\"T_80459_level0_row2\" class=\"row_heading level0 row2\" >2</th>\n",
              "      <td id=\"T_80459_row2_col0\" class=\"data row2 col0\" >Target type</td>\n",
              "      <td id=\"T_80459_row2_col1\" class=\"data row2 col1\" >Binary</td>\n",
              "    </tr>\n",
              "    <tr>\n",
              "      <th id=\"T_80459_level0_row3\" class=\"row_heading level0 row3\" >3</th>\n",
              "      <td id=\"T_80459_row3_col0\" class=\"data row3 col0\" >Target mapping</td>\n",
              "      <td id=\"T_80459_row3_col1\" class=\"data row3 col1\" >Movie: 0, TV Show: 1</td>\n",
              "    </tr>\n",
              "    <tr>\n",
              "      <th id=\"T_80459_level0_row4\" class=\"row_heading level0 row4\" >4</th>\n",
              "      <td id=\"T_80459_row4_col0\" class=\"data row4 col0\" >Original data shape</td>\n",
              "      <td id=\"T_80459_row4_col1\" class=\"data row4 col1\" >(5279, 11)</td>\n",
              "    </tr>\n",
              "    <tr>\n",
              "      <th id=\"T_80459_level0_row5\" class=\"row_heading level0 row5\" >5</th>\n",
              "      <td id=\"T_80459_row5_col0\" class=\"data row5 col0\" >Transformed data shape</td>\n",
              "      <td id=\"T_80459_row5_col1\" class=\"data row5 col1\" >(5279, 11)</td>\n",
              "    </tr>\n",
              "    <tr>\n",
              "      <th id=\"T_80459_level0_row6\" class=\"row_heading level0 row6\" >6</th>\n",
              "      <td id=\"T_80459_row6_col0\" class=\"data row6 col0\" >Transformed train set shape</td>\n",
              "      <td id=\"T_80459_row6_col1\" class=\"data row6 col1\" >(4223, 11)</td>\n",
              "    </tr>\n",
              "    <tr>\n",
              "      <th id=\"T_80459_level0_row7\" class=\"row_heading level0 row7\" >7</th>\n",
              "      <td id=\"T_80459_row7_col0\" class=\"data row7 col0\" >Transformed test set shape</td>\n",
              "      <td id=\"T_80459_row7_col1\" class=\"data row7 col1\" >(1056, 11)</td>\n",
              "    </tr>\n",
              "    <tr>\n",
              "      <th id=\"T_80459_level0_row8\" class=\"row_heading level0 row8\" >8</th>\n",
              "      <td id=\"T_80459_row8_col0\" class=\"data row8 col0\" >Numeric features</td>\n",
              "      <td id=\"T_80459_row8_col1\" class=\"data row8 col1\" >1</td>\n",
              "    </tr>\n",
              "    <tr>\n",
              "      <th id=\"T_80459_level0_row9\" class=\"row_heading level0 row9\" >9</th>\n",
              "      <td id=\"T_80459_row9_col0\" class=\"data row9 col0\" >Categorical features</td>\n",
              "      <td id=\"T_80459_row9_col1\" class=\"data row9 col1\" >9</td>\n",
              "    </tr>\n",
              "    <tr>\n",
              "      <th id=\"T_80459_level0_row10\" class=\"row_heading level0 row10\" >10</th>\n",
              "      <td id=\"T_80459_row10_col0\" class=\"data row10 col0\" >Preprocess</td>\n",
              "      <td id=\"T_80459_row10_col1\" class=\"data row10 col1\" >True</td>\n",
              "    </tr>\n",
              "    <tr>\n",
              "      <th id=\"T_80459_level0_row11\" class=\"row_heading level0 row11\" >11</th>\n",
              "      <td id=\"T_80459_row11_col0\" class=\"data row11 col0\" >Imputation type</td>\n",
              "      <td id=\"T_80459_row11_col1\" class=\"data row11 col1\" >simple</td>\n",
              "    </tr>\n",
              "    <tr>\n",
              "      <th id=\"T_80459_level0_row12\" class=\"row_heading level0 row12\" >12</th>\n",
              "      <td id=\"T_80459_row12_col0\" class=\"data row12 col0\" >Numeric imputation</td>\n",
              "      <td id=\"T_80459_row12_col1\" class=\"data row12 col1\" >mean</td>\n",
              "    </tr>\n",
              "    <tr>\n",
              "      <th id=\"T_80459_level0_row13\" class=\"row_heading level0 row13\" >13</th>\n",
              "      <td id=\"T_80459_row13_col0\" class=\"data row13 col0\" >Categorical imputation</td>\n",
              "      <td id=\"T_80459_row13_col1\" class=\"data row13 col1\" >mode</td>\n",
              "    </tr>\n",
              "    <tr>\n",
              "      <th id=\"T_80459_level0_row14\" class=\"row_heading level0 row14\" >14</th>\n",
              "      <td id=\"T_80459_row14_col0\" class=\"data row14 col0\" >Maximum one-hot encoding</td>\n",
              "      <td id=\"T_80459_row14_col1\" class=\"data row14 col1\" >25</td>\n",
              "    </tr>\n",
              "    <tr>\n",
              "      <th id=\"T_80459_level0_row15\" class=\"row_heading level0 row15\" >15</th>\n",
              "      <td id=\"T_80459_row15_col0\" class=\"data row15 col0\" >Encoding method</td>\n",
              "      <td id=\"T_80459_row15_col1\" class=\"data row15 col1\" >None</td>\n",
              "    </tr>\n",
              "    <tr>\n",
              "      <th id=\"T_80459_level0_row16\" class=\"row_heading level0 row16\" >16</th>\n",
              "      <td id=\"T_80459_row16_col0\" class=\"data row16 col0\" >Fold Generator</td>\n",
              "      <td id=\"T_80459_row16_col1\" class=\"data row16 col1\" >StratifiedKFold</td>\n",
              "    </tr>\n",
              "    <tr>\n",
              "      <th id=\"T_80459_level0_row17\" class=\"row_heading level0 row17\" >17</th>\n",
              "      <td id=\"T_80459_row17_col0\" class=\"data row17 col0\" >Fold Number</td>\n",
              "      <td id=\"T_80459_row17_col1\" class=\"data row17 col1\" >10</td>\n",
              "    </tr>\n",
              "    <tr>\n",
              "      <th id=\"T_80459_level0_row18\" class=\"row_heading level0 row18\" >18</th>\n",
              "      <td id=\"T_80459_row18_col0\" class=\"data row18 col0\" >CPU Jobs</td>\n",
              "      <td id=\"T_80459_row18_col1\" class=\"data row18 col1\" >-1</td>\n",
              "    </tr>\n",
              "    <tr>\n",
              "      <th id=\"T_80459_level0_row19\" class=\"row_heading level0 row19\" >19</th>\n",
              "      <td id=\"T_80459_row19_col0\" class=\"data row19 col0\" >Use GPU</td>\n",
              "      <td id=\"T_80459_row19_col1\" class=\"data row19 col1\" >False</td>\n",
              "    </tr>\n",
              "    <tr>\n",
              "      <th id=\"T_80459_level0_row20\" class=\"row_heading level0 row20\" >20</th>\n",
              "      <td id=\"T_80459_row20_col0\" class=\"data row20 col0\" >Log Experiment</td>\n",
              "      <td id=\"T_80459_row20_col1\" class=\"data row20 col1\" >False</td>\n",
              "    </tr>\n",
              "    <tr>\n",
              "      <th id=\"T_80459_level0_row21\" class=\"row_heading level0 row21\" >21</th>\n",
              "      <td id=\"T_80459_row21_col0\" class=\"data row21 col0\" >Experiment Name</td>\n",
              "      <td id=\"T_80459_row21_col1\" class=\"data row21 col1\" >clf-default-name</td>\n",
              "    </tr>\n",
              "    <tr>\n",
              "      <th id=\"T_80459_level0_row22\" class=\"row_heading level0 row22\" >22</th>\n",
              "      <td id=\"T_80459_row22_col0\" class=\"data row22 col0\" >USI</td>\n",
              "      <td id=\"T_80459_row22_col1\" class=\"data row22 col1\" >d3c7</td>\n",
              "    </tr>\n",
              "  </tbody>\n",
              "</table>\n"
            ]
          },
          "metadata": {}
        }
      ]
    },
    {
      "cell_type": "code",
      "source": [
        "model = compare_models()  # تجربة أفضل نموذج تلقائيًا\n",
        "best_model = create_model(\"rf\")  # إنشاء نموذج الغابة العشوائية (Random Forest)\n",
        "tuned_model = tune_model(best_model)  # ضبط وتحسين النموذج"
      ],
      "metadata": {
        "colab": {
          "base_uri": "https://localhost:8080/",
          "height": 1000,
          "referenced_widgets": [
            "8f938229cefc4467bdd579983aa2c5f5",
            "378b74b877cd484ba7a67345a650ee37",
            "cc4facef3d9340959cc2ffcdf1284032",
            "dcfe1d1bf5ca44e3af8065aceae29b06",
            "b2bf5bfca3eb4d6e978d6345b34ef04a",
            "799f1d72e73b4c2892ff162f349927e6",
            "885cc359a7fd4dbbb5326863a09d3bf8",
            "d0bcdcb913d547bb8b8698136acde45c",
            "9a1eb343a17d4f86a346b9c258b81f95",
            "583bb68b2a0b4594ba8a43b1056d373b",
            "7b2055773ef6479f9657b63ef14f60fa",
            "0d70d48e2b3a4e709bd98983b8547999",
            "49ca41f0afaf4ecc98547323ffc28ce6",
            "129a61913ff54cab8be47d5de12b6b52",
            "dcaa0e68ace84c04a9f41be26057064c",
            "31e045afcb684fedb99e17f58fa7a78d",
            "e4550bd1e78e4e96a3a1a1de9b9a5fee",
            "cc46d846d4e7429e90c79c34da277dc9",
            "99a9031b57f5436c9166b6d0b6c7ac38",
            "8527d532c13f48f79bbab7fc7932f946",
            "93742f76132140ddb593e7a9d2020d7b",
            "a65d4cfa9540412b899ab89212100084",
            "9abd5bf0dc7a4167977fe32ec4c66f5c",
            "0791aa2692774fbfbfc4712e9792ad93",
            "dfcc13201e18491680292aca788d701e",
            "224b090b398244249ac6ee90c7b9f07f",
            "cd6fd29c7fe745f1abc2dc89044901bf",
            "2615d373beec410f9d7eab4411df6c92",
            "3f5a4af1904849dbb00d76ed6db15424",
            "23ff7e20323a4b80930c94ddaf2c5396",
            "8e32fcd4901b4aba9e983a88d1ef9f4c",
            "2ab180dde3694b029c11f5347ced99b4",
            "9c93c7a0082f4550acb1bf39c5b310c4"
          ]
        },
        "id": "bkWzApcqapCr",
        "outputId": "47a58385-fc0c-40b5-fb6d-9e868c7f0df7"
      },
      "execution_count": 20,
      "outputs": [
        {
          "output_type": "display_data",
          "data": {
            "text/plain": [
              "<IPython.core.display.HTML object>"
            ],
            "text/html": []
          },
          "metadata": {}
        },
        {
          "output_type": "display_data",
          "data": {
            "text/plain": [
              "<pandas.io.formats.style.Styler at 0x7aca049acc50>"
            ],
            "text/html": [
              "<style type=\"text/css\">\n",
              "#T_b0892 th {\n",
              "  text-align: left;\n",
              "}\n",
              "#T_b0892_row0_col0, #T_b0892_row1_col0, #T_b0892_row1_col1, #T_b0892_row1_col2, #T_b0892_row1_col3, #T_b0892_row1_col4, #T_b0892_row1_col5, #T_b0892_row1_col6, #T_b0892_row1_col7, #T_b0892_row2_col0, #T_b0892_row2_col1, #T_b0892_row2_col2, #T_b0892_row2_col3, #T_b0892_row2_col4, #T_b0892_row2_col5, #T_b0892_row2_col6, #T_b0892_row2_col7, #T_b0892_row3_col0, #T_b0892_row3_col1, #T_b0892_row3_col2, #T_b0892_row3_col3, #T_b0892_row3_col4, #T_b0892_row3_col5, #T_b0892_row3_col6, #T_b0892_row3_col7, #T_b0892_row4_col0, #T_b0892_row4_col1, #T_b0892_row4_col2, #T_b0892_row4_col3, #T_b0892_row4_col4, #T_b0892_row4_col5, #T_b0892_row4_col6, #T_b0892_row4_col7, #T_b0892_row5_col0, #T_b0892_row5_col1, #T_b0892_row5_col2, #T_b0892_row5_col3, #T_b0892_row5_col4, #T_b0892_row5_col5, #T_b0892_row5_col6, #T_b0892_row5_col7, #T_b0892_row6_col0, #T_b0892_row6_col1, #T_b0892_row6_col2, #T_b0892_row6_col3, #T_b0892_row6_col4, #T_b0892_row6_col5, #T_b0892_row6_col6, #T_b0892_row6_col7, #T_b0892_row7_col0, #T_b0892_row7_col1, #T_b0892_row7_col2, #T_b0892_row7_col3, #T_b0892_row7_col4, #T_b0892_row7_col5, #T_b0892_row7_col6, #T_b0892_row7_col7, #T_b0892_row8_col0, #T_b0892_row8_col1, #T_b0892_row8_col2, #T_b0892_row8_col3, #T_b0892_row8_col4, #T_b0892_row8_col5, #T_b0892_row8_col6, #T_b0892_row8_col7, #T_b0892_row9_col0, #T_b0892_row9_col1, #T_b0892_row9_col2, #T_b0892_row9_col3, #T_b0892_row9_col4, #T_b0892_row9_col5, #T_b0892_row9_col6, #T_b0892_row9_col7, #T_b0892_row10_col0, #T_b0892_row10_col1, #T_b0892_row10_col2, #T_b0892_row10_col3, #T_b0892_row10_col4, #T_b0892_row10_col5, #T_b0892_row10_col6, #T_b0892_row10_col7, #T_b0892_row11_col0, #T_b0892_row11_col1, #T_b0892_row11_col2, #T_b0892_row11_col3, #T_b0892_row11_col4, #T_b0892_row11_col5, #T_b0892_row11_col6, #T_b0892_row11_col7, #T_b0892_row12_col0, #T_b0892_row12_col1, #T_b0892_row12_col2, #T_b0892_row12_col3, #T_b0892_row12_col4, #T_b0892_row12_col5, #T_b0892_row12_col6, #T_b0892_row12_col7, #T_b0892_row13_col0, #T_b0892_row13_col1, #T_b0892_row13_col2, #T_b0892_row13_col3, #T_b0892_row13_col4, #T_b0892_row13_col5, #T_b0892_row13_col6, #T_b0892_row13_col7, #T_b0892_row14_col0, #T_b0892_row14_col1, #T_b0892_row14_col2, #T_b0892_row14_col3, #T_b0892_row14_col4, #T_b0892_row14_col5, #T_b0892_row14_col6, #T_b0892_row14_col7 {\n",
              "  text-align: left;\n",
              "}\n",
              "#T_b0892_row0_col1, #T_b0892_row0_col2, #T_b0892_row0_col3, #T_b0892_row0_col4, #T_b0892_row0_col5, #T_b0892_row0_col6, #T_b0892_row0_col7 {\n",
              "  text-align: left;\n",
              "  background-color: yellow;\n",
              "}\n",
              "#T_b0892_row0_col8, #T_b0892_row1_col8, #T_b0892_row2_col8, #T_b0892_row3_col8, #T_b0892_row4_col8, #T_b0892_row5_col8, #T_b0892_row6_col8, #T_b0892_row7_col8, #T_b0892_row8_col8, #T_b0892_row9_col8, #T_b0892_row11_col8, #T_b0892_row12_col8, #T_b0892_row13_col8, #T_b0892_row14_col8 {\n",
              "  text-align: left;\n",
              "  background-color: lightgrey;\n",
              "}\n",
              "#T_b0892_row10_col8 {\n",
              "  text-align: left;\n",
              "  background-color: yellow;\n",
              "  background-color: lightgrey;\n",
              "}\n",
              "</style>\n",
              "<table id=\"T_b0892\" class=\"dataframe\">\n",
              "  <thead>\n",
              "    <tr>\n",
              "      <th class=\"blank level0\" >&nbsp;</th>\n",
              "      <th id=\"T_b0892_level0_col0\" class=\"col_heading level0 col0\" >Model</th>\n",
              "      <th id=\"T_b0892_level0_col1\" class=\"col_heading level0 col1\" >Accuracy</th>\n",
              "      <th id=\"T_b0892_level0_col2\" class=\"col_heading level0 col2\" >AUC</th>\n",
              "      <th id=\"T_b0892_level0_col3\" class=\"col_heading level0 col3\" >Recall</th>\n",
              "      <th id=\"T_b0892_level0_col4\" class=\"col_heading level0 col4\" >Prec.</th>\n",
              "      <th id=\"T_b0892_level0_col5\" class=\"col_heading level0 col5\" >F1</th>\n",
              "      <th id=\"T_b0892_level0_col6\" class=\"col_heading level0 col6\" >Kappa</th>\n",
              "      <th id=\"T_b0892_level0_col7\" class=\"col_heading level0 col7\" >MCC</th>\n",
              "      <th id=\"T_b0892_level0_col8\" class=\"col_heading level0 col8\" >TT (Sec)</th>\n",
              "    </tr>\n",
              "  </thead>\n",
              "  <tbody>\n",
              "    <tr>\n",
              "      <th id=\"T_b0892_level0_row0\" class=\"row_heading level0 row0\" >lr</th>\n",
              "      <td id=\"T_b0892_row0_col0\" class=\"data row0 col0\" >Logistic Regression</td>\n",
              "      <td id=\"T_b0892_row0_col1\" class=\"data row0 col1\" >0.9931</td>\n",
              "      <td id=\"T_b0892_row0_col2\" class=\"data row0 col2\" >0.9996</td>\n",
              "      <td id=\"T_b0892_row0_col3\" class=\"data row0 col3\" >0.9931</td>\n",
              "      <td id=\"T_b0892_row0_col4\" class=\"data row0 col4\" >0.9932</td>\n",
              "      <td id=\"T_b0892_row0_col5\" class=\"data row0 col5\" >0.9926</td>\n",
              "      <td id=\"T_b0892_row0_col6\" class=\"data row0 col6\" >0.8540</td>\n",
              "      <td id=\"T_b0892_row0_col7\" class=\"data row0 col7\" >0.8637</td>\n",
              "      <td id=\"T_b0892_row0_col8\" class=\"data row0 col8\" >1.0880</td>\n",
              "    </tr>\n",
              "    <tr>\n",
              "      <th id=\"T_b0892_level0_row1\" class=\"row_heading level0 row1\" >knn</th>\n",
              "      <td id=\"T_b0892_row1_col0\" class=\"data row1 col0\" >K Neighbors Classifier</td>\n",
              "      <td id=\"T_b0892_row1_col1\" class=\"data row1 col1\" >0.9915</td>\n",
              "      <td id=\"T_b0892_row1_col2\" class=\"data row1 col2\" >0.8807</td>\n",
              "      <td id=\"T_b0892_row1_col3\" class=\"data row1 col3\" >0.9915</td>\n",
              "      <td id=\"T_b0892_row1_col4\" class=\"data row1 col4\" >0.9916</td>\n",
              "      <td id=\"T_b0892_row1_col5\" class=\"data row1 col5\" >0.9905</td>\n",
              "      <td id=\"T_b0892_row1_col6\" class=\"data row1 col6\" >0.8085</td>\n",
              "      <td id=\"T_b0892_row1_col7\" class=\"data row1 col7\" >0.8259</td>\n",
              "      <td id=\"T_b0892_row1_col8\" class=\"data row1 col8\" >0.5940</td>\n",
              "    </tr>\n",
              "    <tr>\n",
              "      <th id=\"T_b0892_level0_row2\" class=\"row_heading level0 row2\" >dt</th>\n",
              "      <td id=\"T_b0892_row2_col0\" class=\"data row2 col0\" >Decision Tree Classifier</td>\n",
              "      <td id=\"T_b0892_row2_col1\" class=\"data row2 col1\" >0.9910</td>\n",
              "      <td id=\"T_b0892_row2_col2\" class=\"data row2 col2\" >0.8371</td>\n",
              "      <td id=\"T_b0892_row2_col3\" class=\"data row2 col3\" >0.9910</td>\n",
              "      <td id=\"T_b0892_row2_col4\" class=\"data row2 col4\" >0.9911</td>\n",
              "      <td id=\"T_b0892_row2_col5\" class=\"data row2 col5\" >0.9901</td>\n",
              "      <td id=\"T_b0892_row2_col6\" class=\"data row2 col6\" >0.7979</td>\n",
              "      <td id=\"T_b0892_row2_col7\" class=\"data row2 col7\" >0.8157</td>\n",
              "      <td id=\"T_b0892_row2_col8\" class=\"data row2 col8\" >0.3570</td>\n",
              "    </tr>\n",
              "    <tr>\n",
              "      <th id=\"T_b0892_level0_row3\" class=\"row_heading level0 row3\" >ada</th>\n",
              "      <td id=\"T_b0892_row3_col0\" class=\"data row3 col0\" >Ada Boost Classifier</td>\n",
              "      <td id=\"T_b0892_row3_col1\" class=\"data row3 col1\" >0.9884</td>\n",
              "      <td id=\"T_b0892_row3_col2\" class=\"data row3 col2\" >0.7958</td>\n",
              "      <td id=\"T_b0892_row3_col3\" class=\"data row3 col3\" >0.9884</td>\n",
              "      <td id=\"T_b0892_row3_col4\" class=\"data row3 col4\" >0.9773</td>\n",
              "      <td id=\"T_b0892_row3_col5\" class=\"data row3 col5\" >0.9828</td>\n",
              "      <td id=\"T_b0892_row3_col6\" class=\"data row3 col6\" >0.5955</td>\n",
              "      <td id=\"T_b0892_row3_col7\" class=\"data row3 col7\" >0.5956</td>\n",
              "      <td id=\"T_b0892_row3_col8\" class=\"data row3 col8\" >0.3240</td>\n",
              "    </tr>\n",
              "    <tr>\n",
              "      <th id=\"T_b0892_level0_row4\" class=\"row_heading level0 row4\" >ridge</th>\n",
              "      <td id=\"T_b0892_row4_col0\" class=\"data row4 col0\" >Ridge Classifier</td>\n",
              "      <td id=\"T_b0892_row4_col1\" class=\"data row4 col1\" >0.9782</td>\n",
              "      <td id=\"T_b0892_row4_col2\" class=\"data row4 col2\" >0.9992</td>\n",
              "      <td id=\"T_b0892_row4_col3\" class=\"data row4 col3\" >0.9782</td>\n",
              "      <td id=\"T_b0892_row4_col4\" class=\"data row4 col4\" >0.9761</td>\n",
              "      <td id=\"T_b0892_row4_col5\" class=\"data row4 col5\" >0.9706</td>\n",
              "      <td id=\"T_b0892_row4_col6\" class=\"data row4 col6\" >0.3172</td>\n",
              "      <td id=\"T_b0892_row4_col7\" class=\"data row4 col7\" >0.4117</td>\n",
              "      <td id=\"T_b0892_row4_col8\" class=\"data row4 col8\" >0.2560</td>\n",
              "    </tr>\n",
              "    <tr>\n",
              "      <th id=\"T_b0892_level0_row5\" class=\"row_heading level0 row5\" >svm</th>\n",
              "      <td id=\"T_b0892_row5_col0\" class=\"data row5 col0\" >SVM - Linear Kernel</td>\n",
              "      <td id=\"T_b0892_row5_col1\" class=\"data row5 col1\" >0.9747</td>\n",
              "      <td id=\"T_b0892_row5_col2\" class=\"data row5 col2\" >0.6275</td>\n",
              "      <td id=\"T_b0892_row5_col3\" class=\"data row5 col3\" >0.9747</td>\n",
              "      <td id=\"T_b0892_row5_col4\" class=\"data row5 col4\" >0.9505</td>\n",
              "      <td id=\"T_b0892_row5_col5\" class=\"data row5 col5\" >0.9624</td>\n",
              "      <td id=\"T_b0892_row5_col6\" class=\"data row5 col6\" >0.0907</td>\n",
              "      <td id=\"T_b0892_row5_col7\" class=\"data row5 col7\" >0.0911</td>\n",
              "      <td id=\"T_b0892_row5_col8\" class=\"data row5 col8\" >0.4380</td>\n",
              "    </tr>\n",
              "    <tr>\n",
              "      <th id=\"T_b0892_level0_row6\" class=\"row_heading level0 row6\" >nb</th>\n",
              "      <td id=\"T_b0892_row6_col0\" class=\"data row6 col0\" >Naive Bayes</td>\n",
              "      <td id=\"T_b0892_row6_col1\" class=\"data row6 col1\" >0.9723</td>\n",
              "      <td id=\"T_b0892_row6_col2\" class=\"data row6 col2\" >0.5000</td>\n",
              "      <td id=\"T_b0892_row6_col3\" class=\"data row6 col3\" >0.9723</td>\n",
              "      <td id=\"T_b0892_row6_col4\" class=\"data row6 col4\" >0.9454</td>\n",
              "      <td id=\"T_b0892_row6_col5\" class=\"data row6 col5\" >0.9586</td>\n",
              "      <td id=\"T_b0892_row6_col6\" class=\"data row6 col6\" >0.0000</td>\n",
              "      <td id=\"T_b0892_row6_col7\" class=\"data row6 col7\" >0.0000</td>\n",
              "      <td id=\"T_b0892_row6_col8\" class=\"data row6 col8\" >0.2830</td>\n",
              "    </tr>\n",
              "    <tr>\n",
              "      <th id=\"T_b0892_level0_row7\" class=\"row_heading level0 row7\" >rf</th>\n",
              "      <td id=\"T_b0892_row7_col0\" class=\"data row7 col0\" >Random Forest Classifier</td>\n",
              "      <td id=\"T_b0892_row7_col1\" class=\"data row7 col1\" >0.9723</td>\n",
              "      <td id=\"T_b0892_row7_col2\" class=\"data row7 col2\" >0.9874</td>\n",
              "      <td id=\"T_b0892_row7_col3\" class=\"data row7 col3\" >0.9723</td>\n",
              "      <td id=\"T_b0892_row7_col4\" class=\"data row7 col4\" >0.9454</td>\n",
              "      <td id=\"T_b0892_row7_col5\" class=\"data row7 col5\" >0.9586</td>\n",
              "      <td id=\"T_b0892_row7_col6\" class=\"data row7 col6\" >0.0000</td>\n",
              "      <td id=\"T_b0892_row7_col7\" class=\"data row7 col7\" >0.0000</td>\n",
              "      <td id=\"T_b0892_row7_col8\" class=\"data row7 col8\" >0.4750</td>\n",
              "    </tr>\n",
              "    <tr>\n",
              "      <th id=\"T_b0892_level0_row8\" class=\"row_heading level0 row8\" >qda</th>\n",
              "      <td id=\"T_b0892_row8_col0\" class=\"data row8 col0\" >Quadratic Discriminant Analysis</td>\n",
              "      <td id=\"T_b0892_row8_col1\" class=\"data row8 col1\" >0.9723</td>\n",
              "      <td id=\"T_b0892_row8_col2\" class=\"data row8 col2\" >0.6111</td>\n",
              "      <td id=\"T_b0892_row8_col3\" class=\"data row8 col3\" >0.9723</td>\n",
              "      <td id=\"T_b0892_row8_col4\" class=\"data row8 col4\" >0.9454</td>\n",
              "      <td id=\"T_b0892_row8_col5\" class=\"data row8 col5\" >0.9586</td>\n",
              "      <td id=\"T_b0892_row8_col6\" class=\"data row8 col6\" >0.0000</td>\n",
              "      <td id=\"T_b0892_row8_col7\" class=\"data row8 col7\" >0.0000</td>\n",
              "      <td id=\"T_b0892_row8_col8\" class=\"data row8 col8\" >0.3650</td>\n",
              "    </tr>\n",
              "    <tr>\n",
              "      <th id=\"T_b0892_level0_row9\" class=\"row_heading level0 row9\" >gbc</th>\n",
              "      <td id=\"T_b0892_row9_col0\" class=\"data row9 col0\" >Gradient Boosting Classifier</td>\n",
              "      <td id=\"T_b0892_row9_col1\" class=\"data row9 col1\" >0.9723</td>\n",
              "      <td id=\"T_b0892_row9_col2\" class=\"data row9 col2\" >0.9875</td>\n",
              "      <td id=\"T_b0892_row9_col3\" class=\"data row9 col3\" >0.9723</td>\n",
              "      <td id=\"T_b0892_row9_col4\" class=\"data row9 col4\" >0.9454</td>\n",
              "      <td id=\"T_b0892_row9_col5\" class=\"data row9 col5\" >0.9586</td>\n",
              "      <td id=\"T_b0892_row9_col6\" class=\"data row9 col6\" >0.0000</td>\n",
              "      <td id=\"T_b0892_row9_col7\" class=\"data row9 col7\" >0.0000</td>\n",
              "      <td id=\"T_b0892_row9_col8\" class=\"data row9 col8\" >0.4030</td>\n",
              "    </tr>\n",
              "    <tr>\n",
              "      <th id=\"T_b0892_level0_row10\" class=\"row_heading level0 row10\" >lda</th>\n",
              "      <td id=\"T_b0892_row10_col0\" class=\"data row10 col0\" >Linear Discriminant Analysis</td>\n",
              "      <td id=\"T_b0892_row10_col1\" class=\"data row10 col1\" >0.9723</td>\n",
              "      <td id=\"T_b0892_row10_col2\" class=\"data row10 col2\" >0.5000</td>\n",
              "      <td id=\"T_b0892_row10_col3\" class=\"data row10 col3\" >0.9723</td>\n",
              "      <td id=\"T_b0892_row10_col4\" class=\"data row10 col4\" >0.9454</td>\n",
              "      <td id=\"T_b0892_row10_col5\" class=\"data row10 col5\" >0.9586</td>\n",
              "      <td id=\"T_b0892_row10_col6\" class=\"data row10 col6\" >0.0000</td>\n",
              "      <td id=\"T_b0892_row10_col7\" class=\"data row10 col7\" >0.0000</td>\n",
              "      <td id=\"T_b0892_row10_col8\" class=\"data row10 col8\" >0.2430</td>\n",
              "    </tr>\n",
              "    <tr>\n",
              "      <th id=\"T_b0892_level0_row11\" class=\"row_heading level0 row11\" >et</th>\n",
              "      <td id=\"T_b0892_row11_col0\" class=\"data row11 col0\" >Extra Trees Classifier</td>\n",
              "      <td id=\"T_b0892_row11_col1\" class=\"data row11 col1\" >0.9723</td>\n",
              "      <td id=\"T_b0892_row11_col2\" class=\"data row11 col2\" >0.9992</td>\n",
              "      <td id=\"T_b0892_row11_col3\" class=\"data row11 col3\" >0.9723</td>\n",
              "      <td id=\"T_b0892_row11_col4\" class=\"data row11 col4\" >0.9454</td>\n",
              "      <td id=\"T_b0892_row11_col5\" class=\"data row11 col5\" >0.9586</td>\n",
              "      <td id=\"T_b0892_row11_col6\" class=\"data row11 col6\" >0.0000</td>\n",
              "      <td id=\"T_b0892_row11_col7\" class=\"data row11 col7\" >0.0000</td>\n",
              "      <td id=\"T_b0892_row11_col8\" class=\"data row11 col8\" >0.5960</td>\n",
              "    </tr>\n",
              "    <tr>\n",
              "      <th id=\"T_b0892_level0_row12\" class=\"row_heading level0 row12\" >xgboost</th>\n",
              "      <td id=\"T_b0892_row12_col0\" class=\"data row12 col0\" >Extreme Gradient Boosting</td>\n",
              "      <td id=\"T_b0892_row12_col1\" class=\"data row12 col1\" >0.9723</td>\n",
              "      <td id=\"T_b0892_row12_col2\" class=\"data row12 col2\" >0.9976</td>\n",
              "      <td id=\"T_b0892_row12_col3\" class=\"data row12 col3\" >0.9723</td>\n",
              "      <td id=\"T_b0892_row12_col4\" class=\"data row12 col4\" >0.9454</td>\n",
              "      <td id=\"T_b0892_row12_col5\" class=\"data row12 col5\" >0.9586</td>\n",
              "      <td id=\"T_b0892_row12_col6\" class=\"data row12 col6\" >0.0000</td>\n",
              "      <td id=\"T_b0892_row12_col7\" class=\"data row12 col7\" >0.0000</td>\n",
              "      <td id=\"T_b0892_row12_col8\" class=\"data row12 col8\" >0.2860</td>\n",
              "    </tr>\n",
              "    <tr>\n",
              "      <th id=\"T_b0892_level0_row13\" class=\"row_heading level0 row13\" >lightgbm</th>\n",
              "      <td id=\"T_b0892_row13_col0\" class=\"data row13 col0\" >Light Gradient Boosting Machine</td>\n",
              "      <td id=\"T_b0892_row13_col1\" class=\"data row13 col1\" >0.9723</td>\n",
              "      <td id=\"T_b0892_row13_col2\" class=\"data row13 col2\" >0.9585</td>\n",
              "      <td id=\"T_b0892_row13_col3\" class=\"data row13 col3\" >0.9723</td>\n",
              "      <td id=\"T_b0892_row13_col4\" class=\"data row13 col4\" >0.9454</td>\n",
              "      <td id=\"T_b0892_row13_col5\" class=\"data row13 col5\" >0.9586</td>\n",
              "      <td id=\"T_b0892_row13_col6\" class=\"data row13 col6\" >0.0000</td>\n",
              "      <td id=\"T_b0892_row13_col7\" class=\"data row13 col7\" >0.0000</td>\n",
              "      <td id=\"T_b0892_row13_col8\" class=\"data row13 col8\" >0.5900</td>\n",
              "    </tr>\n",
              "    <tr>\n",
              "      <th id=\"T_b0892_level0_row14\" class=\"row_heading level0 row14\" >dummy</th>\n",
              "      <td id=\"T_b0892_row14_col0\" class=\"data row14 col0\" >Dummy Classifier</td>\n",
              "      <td id=\"T_b0892_row14_col1\" class=\"data row14 col1\" >0.9723</td>\n",
              "      <td id=\"T_b0892_row14_col2\" class=\"data row14 col2\" >0.5000</td>\n",
              "      <td id=\"T_b0892_row14_col3\" class=\"data row14 col3\" >0.9723</td>\n",
              "      <td id=\"T_b0892_row14_col4\" class=\"data row14 col4\" >0.9454</td>\n",
              "      <td id=\"T_b0892_row14_col5\" class=\"data row14 col5\" >0.9586</td>\n",
              "      <td id=\"T_b0892_row14_col6\" class=\"data row14 col6\" >0.0000</td>\n",
              "      <td id=\"T_b0892_row14_col7\" class=\"data row14 col7\" >0.0000</td>\n",
              "      <td id=\"T_b0892_row14_col8\" class=\"data row14 col8\" >0.4040</td>\n",
              "    </tr>\n",
              "  </tbody>\n",
              "</table>\n"
            ]
          },
          "metadata": {}
        },
        {
          "output_type": "display_data",
          "data": {
            "text/plain": [
              "Processing:   0%|          | 0/65 [00:00<?, ?it/s]"
            ],
            "application/vnd.jupyter.widget-view+json": {
              "version_major": 2,
              "version_minor": 0,
              "model_id": "8f938229cefc4467bdd579983aa2c5f5"
            }
          },
          "metadata": {
            "application/vnd.jupyter.widget-view+json": {
              "colab": {
                "custom_widget_manager": {
                  "url": "https://ssl.gstatic.com/colaboratory-static/widgets/colab-cdn-widget-manager/2b70e893a8ba7c0f/manager.min.js"
                }
              }
            }
          }
        },
        {
          "output_type": "display_data",
          "data": {
            "text/plain": [
              "<IPython.core.display.HTML object>"
            ],
            "text/html": []
          },
          "metadata": {}
        },
        {
          "output_type": "display_data",
          "data": {
            "text/plain": [
              "<IPython.core.display.HTML object>"
            ],
            "text/html": []
          },
          "metadata": {}
        },
        {
          "output_type": "display_data",
          "data": {
            "text/plain": [
              "<pandas.io.formats.style.Styler at 0x7aca057cde10>"
            ],
            "text/html": [
              "<style type=\"text/css\">\n",
              "#T_ebd38_row10_col0, #T_ebd38_row10_col1, #T_ebd38_row10_col2, #T_ebd38_row10_col3, #T_ebd38_row10_col4, #T_ebd38_row10_col5, #T_ebd38_row10_col6 {\n",
              "  background: yellow;\n",
              "}\n",
              "</style>\n",
              "<table id=\"T_ebd38\" class=\"dataframe\">\n",
              "  <thead>\n",
              "    <tr>\n",
              "      <th class=\"blank level0\" >&nbsp;</th>\n",
              "      <th id=\"T_ebd38_level0_col0\" class=\"col_heading level0 col0\" >Accuracy</th>\n",
              "      <th id=\"T_ebd38_level0_col1\" class=\"col_heading level0 col1\" >AUC</th>\n",
              "      <th id=\"T_ebd38_level0_col2\" class=\"col_heading level0 col2\" >Recall</th>\n",
              "      <th id=\"T_ebd38_level0_col3\" class=\"col_heading level0 col3\" >Prec.</th>\n",
              "      <th id=\"T_ebd38_level0_col4\" class=\"col_heading level0 col4\" >F1</th>\n",
              "      <th id=\"T_ebd38_level0_col5\" class=\"col_heading level0 col5\" >Kappa</th>\n",
              "      <th id=\"T_ebd38_level0_col6\" class=\"col_heading level0 col6\" >MCC</th>\n",
              "    </tr>\n",
              "    <tr>\n",
              "      <th class=\"index_name level0\" >Fold</th>\n",
              "      <th class=\"blank col0\" >&nbsp;</th>\n",
              "      <th class=\"blank col1\" >&nbsp;</th>\n",
              "      <th class=\"blank col2\" >&nbsp;</th>\n",
              "      <th class=\"blank col3\" >&nbsp;</th>\n",
              "      <th class=\"blank col4\" >&nbsp;</th>\n",
              "      <th class=\"blank col5\" >&nbsp;</th>\n",
              "      <th class=\"blank col6\" >&nbsp;</th>\n",
              "    </tr>\n",
              "  </thead>\n",
              "  <tbody>\n",
              "    <tr>\n",
              "      <th id=\"T_ebd38_level0_row0\" class=\"row_heading level0 row0\" >0</th>\n",
              "      <td id=\"T_ebd38_row0_col0\" class=\"data row0 col0\" >0.9716</td>\n",
              "      <td id=\"T_ebd38_row0_col1\" class=\"data row0 col1\" >0.9583</td>\n",
              "      <td id=\"T_ebd38_row0_col2\" class=\"data row0 col2\" >0.9716</td>\n",
              "      <td id=\"T_ebd38_row0_col3\" class=\"data row0 col3\" >0.9441</td>\n",
              "      <td id=\"T_ebd38_row0_col4\" class=\"data row0 col4\" >0.9577</td>\n",
              "      <td id=\"T_ebd38_row0_col5\" class=\"data row0 col5\" >0.0000</td>\n",
              "      <td id=\"T_ebd38_row0_col6\" class=\"data row0 col6\" >0.0000</td>\n",
              "    </tr>\n",
              "    <tr>\n",
              "      <th id=\"T_ebd38_level0_row1\" class=\"row_heading level0 row1\" >1</th>\n",
              "      <td id=\"T_ebd38_row1_col0\" class=\"data row1 col0\" >0.9716</td>\n",
              "      <td id=\"T_ebd38_row1_col1\" class=\"data row1 col1\" >1.0000</td>\n",
              "      <td id=\"T_ebd38_row1_col2\" class=\"data row1 col2\" >0.9716</td>\n",
              "      <td id=\"T_ebd38_row1_col3\" class=\"data row1 col3\" >0.9441</td>\n",
              "      <td id=\"T_ebd38_row1_col4\" class=\"data row1 col4\" >0.9577</td>\n",
              "      <td id=\"T_ebd38_row1_col5\" class=\"data row1 col5\" >0.0000</td>\n",
              "      <td id=\"T_ebd38_row1_col6\" class=\"data row1 col6\" >0.0000</td>\n",
              "    </tr>\n",
              "    <tr>\n",
              "      <th id=\"T_ebd38_level0_row2\" class=\"row_heading level0 row2\" >2</th>\n",
              "      <td id=\"T_ebd38_row2_col0\" class=\"data row2 col0\" >0.9716</td>\n",
              "      <td id=\"T_ebd38_row2_col1\" class=\"data row2 col1\" >1.0000</td>\n",
              "      <td id=\"T_ebd38_row2_col2\" class=\"data row2 col2\" >0.9716</td>\n",
              "      <td id=\"T_ebd38_row2_col3\" class=\"data row2 col3\" >0.9441</td>\n",
              "      <td id=\"T_ebd38_row2_col4\" class=\"data row2 col4\" >0.9577</td>\n",
              "      <td id=\"T_ebd38_row2_col5\" class=\"data row2 col5\" >0.0000</td>\n",
              "      <td id=\"T_ebd38_row2_col6\" class=\"data row2 col6\" >0.0000</td>\n",
              "    </tr>\n",
              "    <tr>\n",
              "      <th id=\"T_ebd38_level0_row3\" class=\"row_heading level0 row3\" >3</th>\n",
              "      <td id=\"T_ebd38_row3_col0\" class=\"data row3 col0\" >0.9739</td>\n",
              "      <td id=\"T_ebd38_row3_col1\" class=\"data row3 col1\" >1.0000</td>\n",
              "      <td id=\"T_ebd38_row3_col2\" class=\"data row3 col2\" >0.9739</td>\n",
              "      <td id=\"T_ebd38_row3_col3\" class=\"data row3 col3\" >0.9485</td>\n",
              "      <td id=\"T_ebd38_row3_col4\" class=\"data row3 col4\" >0.9611</td>\n",
              "      <td id=\"T_ebd38_row3_col5\" class=\"data row3 col5\" >0.0000</td>\n",
              "      <td id=\"T_ebd38_row3_col6\" class=\"data row3 col6\" >0.0000</td>\n",
              "    </tr>\n",
              "    <tr>\n",
              "      <th id=\"T_ebd38_level0_row4\" class=\"row_heading level0 row4\" >4</th>\n",
              "      <td id=\"T_ebd38_row4_col0\" class=\"data row4 col0\" >0.9739</td>\n",
              "      <td id=\"T_ebd38_row4_col1\" class=\"data row4 col1\" >1.0000</td>\n",
              "      <td id=\"T_ebd38_row4_col2\" class=\"data row4 col2\" >0.9739</td>\n",
              "      <td id=\"T_ebd38_row4_col3\" class=\"data row4 col3\" >0.9485</td>\n",
              "      <td id=\"T_ebd38_row4_col4\" class=\"data row4 col4\" >0.9611</td>\n",
              "      <td id=\"T_ebd38_row4_col5\" class=\"data row4 col5\" >0.0000</td>\n",
              "      <td id=\"T_ebd38_row4_col6\" class=\"data row4 col6\" >0.0000</td>\n",
              "    </tr>\n",
              "    <tr>\n",
              "      <th id=\"T_ebd38_level0_row5\" class=\"row_heading level0 row5\" >5</th>\n",
              "      <td id=\"T_ebd38_row5_col0\" class=\"data row5 col0\" >0.9739</td>\n",
              "      <td id=\"T_ebd38_row5_col1\" class=\"data row5 col1\" >1.0000</td>\n",
              "      <td id=\"T_ebd38_row5_col2\" class=\"data row5 col2\" >0.9739</td>\n",
              "      <td id=\"T_ebd38_row5_col3\" class=\"data row5 col3\" >0.9485</td>\n",
              "      <td id=\"T_ebd38_row5_col4\" class=\"data row5 col4\" >0.9611</td>\n",
              "      <td id=\"T_ebd38_row5_col5\" class=\"data row5 col5\" >0.0000</td>\n",
              "      <td id=\"T_ebd38_row5_col6\" class=\"data row5 col6\" >0.0000</td>\n",
              "    </tr>\n",
              "    <tr>\n",
              "      <th id=\"T_ebd38_level0_row6\" class=\"row_heading level0 row6\" >6</th>\n",
              "      <td id=\"T_ebd38_row6_col0\" class=\"data row6 col0\" >0.9716</td>\n",
              "      <td id=\"T_ebd38_row6_col1\" class=\"data row6 col1\" >1.0000</td>\n",
              "      <td id=\"T_ebd38_row6_col2\" class=\"data row6 col2\" >0.9716</td>\n",
              "      <td id=\"T_ebd38_row6_col3\" class=\"data row6 col3\" >0.9439</td>\n",
              "      <td id=\"T_ebd38_row6_col4\" class=\"data row6 col4\" >0.9576</td>\n",
              "      <td id=\"T_ebd38_row6_col5\" class=\"data row6 col5\" >0.0000</td>\n",
              "      <td id=\"T_ebd38_row6_col6\" class=\"data row6 col6\" >0.0000</td>\n",
              "    </tr>\n",
              "    <tr>\n",
              "      <th id=\"T_ebd38_level0_row7\" class=\"row_heading level0 row7\" >7</th>\n",
              "      <td id=\"T_ebd38_row7_col0\" class=\"data row7 col0\" >0.9716</td>\n",
              "      <td id=\"T_ebd38_row7_col1\" class=\"data row7 col1\" >0.9582</td>\n",
              "      <td id=\"T_ebd38_row7_col2\" class=\"data row7 col2\" >0.9716</td>\n",
              "      <td id=\"T_ebd38_row7_col3\" class=\"data row7 col3\" >0.9439</td>\n",
              "      <td id=\"T_ebd38_row7_col4\" class=\"data row7 col4\" >0.9576</td>\n",
              "      <td id=\"T_ebd38_row7_col5\" class=\"data row7 col5\" >0.0000</td>\n",
              "      <td id=\"T_ebd38_row7_col6\" class=\"data row7 col6\" >0.0000</td>\n",
              "    </tr>\n",
              "    <tr>\n",
              "      <th id=\"T_ebd38_level0_row8\" class=\"row_heading level0 row8\" >8</th>\n",
              "      <td id=\"T_ebd38_row8_col0\" class=\"data row8 col0\" >0.9716</td>\n",
              "      <td id=\"T_ebd38_row8_col1\" class=\"data row8 col1\" >0.9579</td>\n",
              "      <td id=\"T_ebd38_row8_col2\" class=\"data row8 col2\" >0.9716</td>\n",
              "      <td id=\"T_ebd38_row8_col3\" class=\"data row8 col3\" >0.9439</td>\n",
              "      <td id=\"T_ebd38_row8_col4\" class=\"data row8 col4\" >0.9576</td>\n",
              "      <td id=\"T_ebd38_row8_col5\" class=\"data row8 col5\" >0.0000</td>\n",
              "      <td id=\"T_ebd38_row8_col6\" class=\"data row8 col6\" >0.0000</td>\n",
              "    </tr>\n",
              "    <tr>\n",
              "      <th id=\"T_ebd38_level0_row9\" class=\"row_heading level0 row9\" >9</th>\n",
              "      <td id=\"T_ebd38_row9_col0\" class=\"data row9 col0\" >0.9716</td>\n",
              "      <td id=\"T_ebd38_row9_col1\" class=\"data row9 col1\" >1.0000</td>\n",
              "      <td id=\"T_ebd38_row9_col2\" class=\"data row9 col2\" >0.9716</td>\n",
              "      <td id=\"T_ebd38_row9_col3\" class=\"data row9 col3\" >0.9439</td>\n",
              "      <td id=\"T_ebd38_row9_col4\" class=\"data row9 col4\" >0.9576</td>\n",
              "      <td id=\"T_ebd38_row9_col5\" class=\"data row9 col5\" >0.0000</td>\n",
              "      <td id=\"T_ebd38_row9_col6\" class=\"data row9 col6\" >0.0000</td>\n",
              "    </tr>\n",
              "    <tr>\n",
              "      <th id=\"T_ebd38_level0_row10\" class=\"row_heading level0 row10\" >Mean</th>\n",
              "      <td id=\"T_ebd38_row10_col0\" class=\"data row10 col0\" >0.9723</td>\n",
              "      <td id=\"T_ebd38_row10_col1\" class=\"data row10 col1\" >0.9874</td>\n",
              "      <td id=\"T_ebd38_row10_col2\" class=\"data row10 col2\" >0.9723</td>\n",
              "      <td id=\"T_ebd38_row10_col3\" class=\"data row10 col3\" >0.9454</td>\n",
              "      <td id=\"T_ebd38_row10_col4\" class=\"data row10 col4\" >0.9586</td>\n",
              "      <td id=\"T_ebd38_row10_col5\" class=\"data row10 col5\" >0.0000</td>\n",
              "      <td id=\"T_ebd38_row10_col6\" class=\"data row10 col6\" >0.0000</td>\n",
              "    </tr>\n",
              "    <tr>\n",
              "      <th id=\"T_ebd38_level0_row11\" class=\"row_heading level0 row11\" >Std</th>\n",
              "      <td id=\"T_ebd38_row11_col0\" class=\"data row11 col0\" >0.0011</td>\n",
              "      <td id=\"T_ebd38_row11_col1\" class=\"data row11 col1\" >0.0192</td>\n",
              "      <td id=\"T_ebd38_row11_col2\" class=\"data row11 col2\" >0.0011</td>\n",
              "      <td id=\"T_ebd38_row11_col3\" class=\"data row11 col3\" >0.0021</td>\n",
              "      <td id=\"T_ebd38_row11_col4\" class=\"data row11 col4\" >0.0016</td>\n",
              "      <td id=\"T_ebd38_row11_col5\" class=\"data row11 col5\" >0.0000</td>\n",
              "      <td id=\"T_ebd38_row11_col6\" class=\"data row11 col6\" >0.0000</td>\n",
              "    </tr>\n",
              "  </tbody>\n",
              "</table>\n"
            ]
          },
          "metadata": {}
        },
        {
          "output_type": "display_data",
          "data": {
            "text/plain": [
              "Processing:   0%|          | 0/4 [00:00<?, ?it/s]"
            ],
            "application/vnd.jupyter.widget-view+json": {
              "version_major": 2,
              "version_minor": 0,
              "model_id": "a65d4cfa9540412b899ab89212100084"
            }
          },
          "metadata": {
            "application/vnd.jupyter.widget-view+json": {
              "colab": {
                "custom_widget_manager": {
                  "url": "https://ssl.gstatic.com/colaboratory-static/widgets/colab-cdn-widget-manager/2b70e893a8ba7c0f/manager.min.js"
                }
              }
            }
          }
        },
        {
          "output_type": "display_data",
          "data": {
            "text/plain": [
              "<IPython.core.display.HTML object>"
            ],
            "text/html": []
          },
          "metadata": {}
        },
        {
          "output_type": "display_data",
          "data": {
            "text/plain": [
              "<IPython.core.display.HTML object>"
            ],
            "text/html": []
          },
          "metadata": {}
        },
        {
          "output_type": "display_data",
          "data": {
            "text/plain": [
              "<pandas.io.formats.style.Styler at 0x7ac9fbf36790>"
            ],
            "text/html": [
              "<style type=\"text/css\">\n",
              "#T_807c8_row10_col0, #T_807c8_row10_col1, #T_807c8_row10_col2, #T_807c8_row10_col3, #T_807c8_row10_col4, #T_807c8_row10_col5, #T_807c8_row10_col6 {\n",
              "  background: yellow;\n",
              "}\n",
              "</style>\n",
              "<table id=\"T_807c8\" class=\"dataframe\">\n",
              "  <thead>\n",
              "    <tr>\n",
              "      <th class=\"blank level0\" >&nbsp;</th>\n",
              "      <th id=\"T_807c8_level0_col0\" class=\"col_heading level0 col0\" >Accuracy</th>\n",
              "      <th id=\"T_807c8_level0_col1\" class=\"col_heading level0 col1\" >AUC</th>\n",
              "      <th id=\"T_807c8_level0_col2\" class=\"col_heading level0 col2\" >Recall</th>\n",
              "      <th id=\"T_807c8_level0_col3\" class=\"col_heading level0 col3\" >Prec.</th>\n",
              "      <th id=\"T_807c8_level0_col4\" class=\"col_heading level0 col4\" >F1</th>\n",
              "      <th id=\"T_807c8_level0_col5\" class=\"col_heading level0 col5\" >Kappa</th>\n",
              "      <th id=\"T_807c8_level0_col6\" class=\"col_heading level0 col6\" >MCC</th>\n",
              "    </tr>\n",
              "    <tr>\n",
              "      <th class=\"index_name level0\" >Fold</th>\n",
              "      <th class=\"blank col0\" >&nbsp;</th>\n",
              "      <th class=\"blank col1\" >&nbsp;</th>\n",
              "      <th class=\"blank col2\" >&nbsp;</th>\n",
              "      <th class=\"blank col3\" >&nbsp;</th>\n",
              "      <th class=\"blank col4\" >&nbsp;</th>\n",
              "      <th class=\"blank col5\" >&nbsp;</th>\n",
              "      <th class=\"blank col6\" >&nbsp;</th>\n",
              "    </tr>\n",
              "  </thead>\n",
              "  <tbody>\n",
              "    <tr>\n",
              "      <th id=\"T_807c8_level0_row0\" class=\"row_heading level0 row0\" >0</th>\n",
              "      <td id=\"T_807c8_row0_col0\" class=\"data row0 col0\" >0.9905</td>\n",
              "      <td id=\"T_807c8_row0_col1\" class=\"data row0 col1\" >0.9583</td>\n",
              "      <td id=\"T_807c8_row0_col2\" class=\"data row0 col2\" >0.9905</td>\n",
              "      <td id=\"T_807c8_row0_col3\" class=\"data row0 col3\" >0.9906</td>\n",
              "      <td id=\"T_807c8_row0_col4\" class=\"data row0 col4\" >0.9896</td>\n",
              "      <td id=\"T_807c8_row0_col5\" class=\"data row0 col5\" >0.7954</td>\n",
              "      <td id=\"T_807c8_row0_col6\" class=\"data row0 col6\" >0.8126</td>\n",
              "    </tr>\n",
              "    <tr>\n",
              "      <th id=\"T_807c8_level0_row1\" class=\"row_heading level0 row1\" >1</th>\n",
              "      <td id=\"T_807c8_row1_col0\" class=\"data row1 col0\" >0.9953</td>\n",
              "      <td id=\"T_807c8_row1_col1\" class=\"data row1 col1\" >1.0000</td>\n",
              "      <td id=\"T_807c8_row1_col2\" class=\"data row1 col2\" >0.9953</td>\n",
              "      <td id=\"T_807c8_row1_col3\" class=\"data row1 col3\" >0.9953</td>\n",
              "      <td id=\"T_807c8_row1_col4\" class=\"data row1 col4\" >0.9951</td>\n",
              "      <td id=\"T_807c8_row1_col5\" class=\"data row1 col5\" >0.9067</td>\n",
              "      <td id=\"T_807c8_row1_col6\" class=\"data row1 col6\" >0.9107</td>\n",
              "    </tr>\n",
              "    <tr>\n",
              "      <th id=\"T_807c8_level0_row2\" class=\"row_heading level0 row2\" >2</th>\n",
              "      <td id=\"T_807c8_row2_col0\" class=\"data row2 col0\" >0.9905</td>\n",
              "      <td id=\"T_807c8_row2_col1\" class=\"data row2 col1\" >1.0000</td>\n",
              "      <td id=\"T_807c8_row2_col2\" class=\"data row2 col2\" >0.9905</td>\n",
              "      <td id=\"T_807c8_row2_col3\" class=\"data row2 col3\" >0.9906</td>\n",
              "      <td id=\"T_807c8_row2_col4\" class=\"data row2 col4\" >0.9896</td>\n",
              "      <td id=\"T_807c8_row2_col5\" class=\"data row2 col5\" >0.7954</td>\n",
              "      <td id=\"T_807c8_row2_col6\" class=\"data row2 col6\" >0.8126</td>\n",
              "    </tr>\n",
              "    <tr>\n",
              "      <th id=\"T_807c8_level0_row3\" class=\"row_heading level0 row3\" >3</th>\n",
              "      <td id=\"T_807c8_row3_col0\" class=\"data row3 col0\" >0.9739</td>\n",
              "      <td id=\"T_807c8_row3_col1\" class=\"data row3 col1\" >1.0000</td>\n",
              "      <td id=\"T_807c8_row3_col2\" class=\"data row3 col2\" >0.9739</td>\n",
              "      <td id=\"T_807c8_row3_col3\" class=\"data row3 col3\" >0.9485</td>\n",
              "      <td id=\"T_807c8_row3_col4\" class=\"data row3 col4\" >0.9611</td>\n",
              "      <td id=\"T_807c8_row3_col5\" class=\"data row3 col5\" >0.0000</td>\n",
              "      <td id=\"T_807c8_row3_col6\" class=\"data row3 col6\" >0.0000</td>\n",
              "    </tr>\n",
              "    <tr>\n",
              "      <th id=\"T_807c8_level0_row4\" class=\"row_heading level0 row4\" >4</th>\n",
              "      <td id=\"T_807c8_row4_col0\" class=\"data row4 col0\" >0.9739</td>\n",
              "      <td id=\"T_807c8_row4_col1\" class=\"data row4 col1\" >1.0000</td>\n",
              "      <td id=\"T_807c8_row4_col2\" class=\"data row4 col2\" >0.9739</td>\n",
              "      <td id=\"T_807c8_row4_col3\" class=\"data row4 col3\" >0.9485</td>\n",
              "      <td id=\"T_807c8_row4_col4\" class=\"data row4 col4\" >0.9611</td>\n",
              "      <td id=\"T_807c8_row4_col5\" class=\"data row4 col5\" >0.0000</td>\n",
              "      <td id=\"T_807c8_row4_col6\" class=\"data row4 col6\" >0.0000</td>\n",
              "    </tr>\n",
              "    <tr>\n",
              "      <th id=\"T_807c8_level0_row5\" class=\"row_heading level0 row5\" >5</th>\n",
              "      <td id=\"T_807c8_row5_col0\" class=\"data row5 col0\" >0.9739</td>\n",
              "      <td id=\"T_807c8_row5_col1\" class=\"data row5 col1\" >0.9976</td>\n",
              "      <td id=\"T_807c8_row5_col2\" class=\"data row5 col2\" >0.9739</td>\n",
              "      <td id=\"T_807c8_row5_col3\" class=\"data row5 col3\" >0.9485</td>\n",
              "      <td id=\"T_807c8_row5_col4\" class=\"data row5 col4\" >0.9611</td>\n",
              "      <td id=\"T_807c8_row5_col5\" class=\"data row5 col5\" >0.0000</td>\n",
              "      <td id=\"T_807c8_row5_col6\" class=\"data row5 col6\" >0.0000</td>\n",
              "    </tr>\n",
              "    <tr>\n",
              "      <th id=\"T_807c8_level0_row6\" class=\"row_heading level0 row6\" >6</th>\n",
              "      <td id=\"T_807c8_row6_col0\" class=\"data row6 col0\" >0.9929</td>\n",
              "      <td id=\"T_807c8_row6_col1\" class=\"data row6 col1\" >1.0000</td>\n",
              "      <td id=\"T_807c8_row6_col2\" class=\"data row6 col2\" >0.9929</td>\n",
              "      <td id=\"T_807c8_row6_col3\" class=\"data row6 col3\" >0.9929</td>\n",
              "      <td id=\"T_807c8_row6_col4\" class=\"data row6 col4\" >0.9924</td>\n",
              "      <td id=\"T_807c8_row6_col5\" class=\"data row6 col5\" >0.8536</td>\n",
              "      <td id=\"T_807c8_row6_col6\" class=\"data row6 col6\" >0.8629</td>\n",
              "    </tr>\n",
              "    <tr>\n",
              "      <th id=\"T_807c8_level0_row7\" class=\"row_heading level0 row7\" >7</th>\n",
              "      <td id=\"T_807c8_row7_col0\" class=\"data row7 col0\" >0.9882</td>\n",
              "      <td id=\"T_807c8_row7_col1\" class=\"data row7 col1\" >0.9582</td>\n",
              "      <td id=\"T_807c8_row7_col2\" class=\"data row7 col2\" >0.9882</td>\n",
              "      <td id=\"T_807c8_row7_col3\" class=\"data row7 col3\" >0.9883</td>\n",
              "      <td id=\"T_807c8_row7_col4\" class=\"data row7 col4\" >0.9866</td>\n",
              "      <td id=\"T_807c8_row7_col5\" class=\"data row7 col5\" >0.7312</td>\n",
              "      <td id=\"T_807c8_row7_col6\" class=\"data row7 col6\" >0.7591</td>\n",
              "    </tr>\n",
              "    <tr>\n",
              "      <th id=\"T_807c8_level0_row8\" class=\"row_heading level0 row8\" >8</th>\n",
              "      <td id=\"T_807c8_row8_col0\" class=\"data row8 col0\" >0.9882</td>\n",
              "      <td id=\"T_807c8_row8_col1\" class=\"data row8 col1\" >0.9583</td>\n",
              "      <td id=\"T_807c8_row8_col2\" class=\"data row8 col2\" >0.9882</td>\n",
              "      <td id=\"T_807c8_row8_col3\" class=\"data row8 col3\" >0.9883</td>\n",
              "      <td id=\"T_807c8_row8_col4\" class=\"data row8 col4\" >0.9866</td>\n",
              "      <td id=\"T_807c8_row8_col5\" class=\"data row8 col5\" >0.7312</td>\n",
              "      <td id=\"T_807c8_row8_col6\" class=\"data row8 col6\" >0.7591</td>\n",
              "    </tr>\n",
              "    <tr>\n",
              "      <th id=\"T_807c8_level0_row9\" class=\"row_heading level0 row9\" >9</th>\n",
              "      <td id=\"T_807c8_row9_col0\" class=\"data row9 col0\" >0.9929</td>\n",
              "      <td id=\"T_807c8_row9_col1\" class=\"data row9 col1\" >1.0000</td>\n",
              "      <td id=\"T_807c8_row9_col2\" class=\"data row9 col2\" >0.9929</td>\n",
              "      <td id=\"T_807c8_row9_col3\" class=\"data row9 col3\" >0.9929</td>\n",
              "      <td id=\"T_807c8_row9_col4\" class=\"data row9 col4\" >0.9924</td>\n",
              "      <td id=\"T_807c8_row9_col5\" class=\"data row9 col5\" >0.8536</td>\n",
              "      <td id=\"T_807c8_row9_col6\" class=\"data row9 col6\" >0.8629</td>\n",
              "    </tr>\n",
              "    <tr>\n",
              "      <th id=\"T_807c8_level0_row10\" class=\"row_heading level0 row10\" >Mean</th>\n",
              "      <td id=\"T_807c8_row10_col0\" class=\"data row10 col0\" >0.9860</td>\n",
              "      <td id=\"T_807c8_row10_col1\" class=\"data row10 col1\" >0.9872</td>\n",
              "      <td id=\"T_807c8_row10_col2\" class=\"data row10 col2\" >0.9860</td>\n",
              "      <td id=\"T_807c8_row10_col3\" class=\"data row10 col3\" >0.9785</td>\n",
              "      <td id=\"T_807c8_row10_col4\" class=\"data row10 col4\" >0.9816</td>\n",
              "      <td id=\"T_807c8_row10_col5\" class=\"data row10 col5\" >0.5667</td>\n",
              "      <td id=\"T_807c8_row10_col6\" class=\"data row10 col6\" >0.5780</td>\n",
              "    </tr>\n",
              "    <tr>\n",
              "      <th id=\"T_807c8_level0_row11\" class=\"row_heading level0 row11\" >Std</th>\n",
              "      <td id=\"T_807c8_row11_col0\" class=\"data row11 col0\" >0.0082</td>\n",
              "      <td id=\"T_807c8_row11_col1\" class=\"data row11 col1\" >0.0190</td>\n",
              "      <td id=\"T_807c8_row11_col2\" class=\"data row11 col2\" >0.0082</td>\n",
              "      <td id=\"T_807c8_row11_col3\" class=\"data row11 col3\" >0.0197</td>\n",
              "      <td id=\"T_807c8_row11_col4\" class=\"data row11 col4\" >0.0136</td>\n",
              "      <td id=\"T_807c8_row11_col5\" class=\"data row11 col5\" >0.3745</td>\n",
              "      <td id=\"T_807c8_row11_col6\" class=\"data row11 col6\" >0.3809</td>\n",
              "    </tr>\n",
              "  </tbody>\n",
              "</table>\n"
            ]
          },
          "metadata": {}
        },
        {
          "output_type": "display_data",
          "data": {
            "text/plain": [
              "Processing:   0%|          | 0/7 [00:00<?, ?it/s]"
            ],
            "application/vnd.jupyter.widget-view+json": {
              "version_major": 2,
              "version_minor": 0,
              "model_id": "9c93c7a0082f4550acb1bf39c5b310c4"
            }
          },
          "metadata": {
            "application/vnd.jupyter.widget-view+json": {
              "colab": {
                "custom_widget_manager": {
                  "url": "https://ssl.gstatic.com/colaboratory-static/widgets/colab-cdn-widget-manager/2b70e893a8ba7c0f/manager.min.js"
                }
              }
            }
          }
        },
        {
          "output_type": "stream",
          "name": "stdout",
          "text": [
            "Fitting 10 folds for each of 10 candidates, totalling 100 fits\n"
          ]
        },
        {
          "output_type": "display_data",
          "data": {
            "text/plain": [
              "<IPython.core.display.HTML object>"
            ],
            "text/html": []
          },
          "metadata": {}
        }
      ]
    },
    {
      "cell_type": "code",
      "source": [
        "predictions = predict_model(tuned_model, data=df)\n",
        "predictions.head()"
      ],
      "metadata": {
        "colab": {
          "base_uri": "https://localhost:8080/",
          "height": 724
        },
        "id": "jAN5-5lNbBRj",
        "outputId": "d30b7a9e-85ed-4c46-e140-07e08165ed65"
      },
      "execution_count": 21,
      "outputs": [
        {
          "output_type": "display_data",
          "data": {
            "text/plain": [
              "<pandas.io.formats.style.Styler at 0x7aca049e49d0>"
            ],
            "text/html": [
              "<style type=\"text/css\">\n",
              "</style>\n",
              "<table id=\"T_ead55\" class=\"dataframe\">\n",
              "  <thead>\n",
              "    <tr>\n",
              "      <th class=\"blank level0\" >&nbsp;</th>\n",
              "      <th id=\"T_ead55_level0_col0\" class=\"col_heading level0 col0\" >Model</th>\n",
              "      <th id=\"T_ead55_level0_col1\" class=\"col_heading level0 col1\" >Accuracy</th>\n",
              "      <th id=\"T_ead55_level0_col2\" class=\"col_heading level0 col2\" >AUC</th>\n",
              "      <th id=\"T_ead55_level0_col3\" class=\"col_heading level0 col3\" >Recall</th>\n",
              "      <th id=\"T_ead55_level0_col4\" class=\"col_heading level0 col4\" >Prec.</th>\n",
              "      <th id=\"T_ead55_level0_col5\" class=\"col_heading level0 col5\" >F1</th>\n",
              "      <th id=\"T_ead55_level0_col6\" class=\"col_heading level0 col6\" >Kappa</th>\n",
              "      <th id=\"T_ead55_level0_col7\" class=\"col_heading level0 col7\" >MCC</th>\n",
              "    </tr>\n",
              "  </thead>\n",
              "  <tbody>\n",
              "    <tr>\n",
              "      <th id=\"T_ead55_level0_row0\" class=\"row_heading level0 row0\" >0</th>\n",
              "      <td id=\"T_ead55_row0_col0\" class=\"data row0 col0\" >Random Forest Classifier</td>\n",
              "      <td id=\"T_ead55_row0_col1\" class=\"data row0 col1\" >0.9977</td>\n",
              "      <td id=\"T_ead55_row0_col2\" class=\"data row0 col2\" >1.0000</td>\n",
              "      <td id=\"T_ead55_row0_col3\" class=\"data row0 col3\" >0.9977</td>\n",
              "      <td id=\"T_ead55_row0_col4\" class=\"data row0 col4\" >0.9977</td>\n",
              "      <td id=\"T_ead55_row0_col5\" class=\"data row0 col5\" >0.9977</td>\n",
              "      <td id=\"T_ead55_row0_col6\" class=\"data row0 col6\" >0.9560</td>\n",
              "      <td id=\"T_ead55_row0_col7\" class=\"data row0 col7\" >0.9569</td>\n",
              "    </tr>\n",
              "  </tbody>\n",
              "</table>\n"
            ]
          },
          "metadata": {}
        },
        {
          "output_type": "execute_result",
          "data": {
            "text/plain": [
              "  show_id                          title             director  \\\n",
              "0      s8                        Sankofa         Haile Gerima   \n",
              "1      s9  The Great British Baking Show      Andy Devonshire   \n",
              "2     s10                   The Starling       Theodore Melfi   \n",
              "3     s13                   Je Suis Karl  Christian Schwochow   \n",
              "4     s25                          Jeans           S. Shankar   \n",
              "\n",
              "                                                cast  \\\n",
              "0  Kofi Ghanaba, Oyafunmike Ogunlano, Alexandra D...   \n",
              "1  Mel Giedroyc, Sue Perkins, Mary Berry, Paul Ho...   \n",
              "2  Melissa McCarthy, Chris O'Dowd, Kevin Kline, T...   \n",
              "3  Luna Wedler, Jannis Niewأ¶hner, Milan Peschel,...   \n",
              "4  Prashanth, Aishwarya Rai Bachchan, Sri Lakshmi...   \n",
              "\n",
              "                                             country          date_added  \\\n",
              "0  United States, Ghana, Burkina Faso, United Kin...  September 24, 2021   \n",
              "1                                     United Kingdom  September 24, 2021   \n",
              "2                                      United States  September 24, 2021   \n",
              "3                            Germany, Czech Republic  September 23, 2021   \n",
              "4                                              India  September 21, 2021   \n",
              "\n",
              "   release_year   duration                                         listed_in  \\\n",
              "0          1993    125 min  Dramas, Independent Movies, International Movies   \n",
              "1          2021  9 Seasons                      British TV Shows, Reality TV   \n",
              "2          2021    104 min                                  Comedies, Dramas   \n",
              "3          2021    127 min                      Dramas, International Movies   \n",
              "4          1998    166 min   Comedies, International Movies, Romantic Movies   \n",
              "\n",
              "                                         description     type  \\\n",
              "0  On a photo shoot in Ghana, an American model s...    Movie   \n",
              "1  A talented batch of amateur bakers face off in...  TV Show   \n",
              "2  A woman adjusting to life after a loss contend...    Movie   \n",
              "3  After most of her family is murdered in a terr...    Movie   \n",
              "4  When the father of the man she loves insists t...    Movie   \n",
              "\n",
              "  prediction_label  prediction_score  \n",
              "0            Movie               1.0  \n",
              "1          TV Show               1.0  \n",
              "2            Movie               1.0  \n",
              "3            Movie               1.0  \n",
              "4            Movie               1.0  "
            ],
            "text/html": [
              "\n",
              "  <div id=\"df-fe535902-d262-4b4b-8e39-73f9626fbef5\" class=\"colab-df-container\">\n",
              "    <div>\n",
              "<style scoped>\n",
              "    .dataframe tbody tr th:only-of-type {\n",
              "        vertical-align: middle;\n",
              "    }\n",
              "\n",
              "    .dataframe tbody tr th {\n",
              "        vertical-align: top;\n",
              "    }\n",
              "\n",
              "    .dataframe thead th {\n",
              "        text-align: right;\n",
              "    }\n",
              "</style>\n",
              "<table border=\"1\" class=\"dataframe\">\n",
              "  <thead>\n",
              "    <tr style=\"text-align: right;\">\n",
              "      <th></th>\n",
              "      <th>show_id</th>\n",
              "      <th>title</th>\n",
              "      <th>director</th>\n",
              "      <th>cast</th>\n",
              "      <th>country</th>\n",
              "      <th>date_added</th>\n",
              "      <th>release_year</th>\n",
              "      <th>duration</th>\n",
              "      <th>listed_in</th>\n",
              "      <th>description</th>\n",
              "      <th>type</th>\n",
              "      <th>prediction_label</th>\n",
              "      <th>prediction_score</th>\n",
              "    </tr>\n",
              "  </thead>\n",
              "  <tbody>\n",
              "    <tr>\n",
              "      <th>0</th>\n",
              "      <td>s8</td>\n",
              "      <td>Sankofa</td>\n",
              "      <td>Haile Gerima</td>\n",
              "      <td>Kofi Ghanaba, Oyafunmike Ogunlano, Alexandra D...</td>\n",
              "      <td>United States, Ghana, Burkina Faso, United Kin...</td>\n",
              "      <td>September 24, 2021</td>\n",
              "      <td>1993</td>\n",
              "      <td>125 min</td>\n",
              "      <td>Dramas, Independent Movies, International Movies</td>\n",
              "      <td>On a photo shoot in Ghana, an American model s...</td>\n",
              "      <td>Movie</td>\n",
              "      <td>Movie</td>\n",
              "      <td>1.0</td>\n",
              "    </tr>\n",
              "    <tr>\n",
              "      <th>1</th>\n",
              "      <td>s9</td>\n",
              "      <td>The Great British Baking Show</td>\n",
              "      <td>Andy Devonshire</td>\n",
              "      <td>Mel Giedroyc, Sue Perkins, Mary Berry, Paul Ho...</td>\n",
              "      <td>United Kingdom</td>\n",
              "      <td>September 24, 2021</td>\n",
              "      <td>2021</td>\n",
              "      <td>9 Seasons</td>\n",
              "      <td>British TV Shows, Reality TV</td>\n",
              "      <td>A talented batch of amateur bakers face off in...</td>\n",
              "      <td>TV Show</td>\n",
              "      <td>TV Show</td>\n",
              "      <td>1.0</td>\n",
              "    </tr>\n",
              "    <tr>\n",
              "      <th>2</th>\n",
              "      <td>s10</td>\n",
              "      <td>The Starling</td>\n",
              "      <td>Theodore Melfi</td>\n",
              "      <td>Melissa McCarthy, Chris O'Dowd, Kevin Kline, T...</td>\n",
              "      <td>United States</td>\n",
              "      <td>September 24, 2021</td>\n",
              "      <td>2021</td>\n",
              "      <td>104 min</td>\n",
              "      <td>Comedies, Dramas</td>\n",
              "      <td>A woman adjusting to life after a loss contend...</td>\n",
              "      <td>Movie</td>\n",
              "      <td>Movie</td>\n",
              "      <td>1.0</td>\n",
              "    </tr>\n",
              "    <tr>\n",
              "      <th>3</th>\n",
              "      <td>s13</td>\n",
              "      <td>Je Suis Karl</td>\n",
              "      <td>Christian Schwochow</td>\n",
              "      <td>Luna Wedler, Jannis Niewأ¶hner, Milan Peschel,...</td>\n",
              "      <td>Germany, Czech Republic</td>\n",
              "      <td>September 23, 2021</td>\n",
              "      <td>2021</td>\n",
              "      <td>127 min</td>\n",
              "      <td>Dramas, International Movies</td>\n",
              "      <td>After most of her family is murdered in a terr...</td>\n",
              "      <td>Movie</td>\n",
              "      <td>Movie</td>\n",
              "      <td>1.0</td>\n",
              "    </tr>\n",
              "    <tr>\n",
              "      <th>4</th>\n",
              "      <td>s25</td>\n",
              "      <td>Jeans</td>\n",
              "      <td>S. Shankar</td>\n",
              "      <td>Prashanth, Aishwarya Rai Bachchan, Sri Lakshmi...</td>\n",
              "      <td>India</td>\n",
              "      <td>September 21, 2021</td>\n",
              "      <td>1998</td>\n",
              "      <td>166 min</td>\n",
              "      <td>Comedies, International Movies, Romantic Movies</td>\n",
              "      <td>When the father of the man she loves insists t...</td>\n",
              "      <td>Movie</td>\n",
              "      <td>Movie</td>\n",
              "      <td>1.0</td>\n",
              "    </tr>\n",
              "  </tbody>\n",
              "</table>\n",
              "</div>\n",
              "    <div class=\"colab-df-buttons\">\n",
              "\n",
              "  <div class=\"colab-df-container\">\n",
              "    <button class=\"colab-df-convert\" onclick=\"convertToInteractive('df-fe535902-d262-4b4b-8e39-73f9626fbef5')\"\n",
              "            title=\"Convert this dataframe to an interactive table.\"\n",
              "            style=\"display:none;\">\n",
              "\n",
              "  <svg xmlns=\"http://www.w3.org/2000/svg\" height=\"24px\" viewBox=\"0 -960 960 960\">\n",
              "    <path d=\"M120-120v-720h720v720H120Zm60-500h600v-160H180v160Zm220 220h160v-160H400v160Zm0 220h160v-160H400v160ZM180-400h160v-160H180v160Zm440 0h160v-160H620v160ZM180-180h160v-160H180v160Zm440 0h160v-160H620v160Z\"/>\n",
              "  </svg>\n",
              "    </button>\n",
              "\n",
              "  <style>\n",
              "    .colab-df-container {\n",
              "      display:flex;\n",
              "      gap: 12px;\n",
              "    }\n",
              "\n",
              "    .colab-df-convert {\n",
              "      background-color: #E8F0FE;\n",
              "      border: none;\n",
              "      border-radius: 50%;\n",
              "      cursor: pointer;\n",
              "      display: none;\n",
              "      fill: #1967D2;\n",
              "      height: 32px;\n",
              "      padding: 0 0 0 0;\n",
              "      width: 32px;\n",
              "    }\n",
              "\n",
              "    .colab-df-convert:hover {\n",
              "      background-color: #E2EBFA;\n",
              "      box-shadow: 0px 1px 2px rgba(60, 64, 67, 0.3), 0px 1px 3px 1px rgba(60, 64, 67, 0.15);\n",
              "      fill: #174EA6;\n",
              "    }\n",
              "\n",
              "    .colab-df-buttons div {\n",
              "      margin-bottom: 4px;\n",
              "    }\n",
              "\n",
              "    [theme=dark] .colab-df-convert {\n",
              "      background-color: #3B4455;\n",
              "      fill: #D2E3FC;\n",
              "    }\n",
              "\n",
              "    [theme=dark] .colab-df-convert:hover {\n",
              "      background-color: #434B5C;\n",
              "      box-shadow: 0px 1px 3px 1px rgba(0, 0, 0, 0.15);\n",
              "      filter: drop-shadow(0px 1px 2px rgba(0, 0, 0, 0.3));\n",
              "      fill: #FFFFFF;\n",
              "    }\n",
              "  </style>\n",
              "\n",
              "    <script>\n",
              "      const buttonEl =\n",
              "        document.querySelector('#df-fe535902-d262-4b4b-8e39-73f9626fbef5 button.colab-df-convert');\n",
              "      buttonEl.style.display =\n",
              "        google.colab.kernel.accessAllowed ? 'block' : 'none';\n",
              "\n",
              "      async function convertToInteractive(key) {\n",
              "        const element = document.querySelector('#df-fe535902-d262-4b4b-8e39-73f9626fbef5');\n",
              "        const dataTable =\n",
              "          await google.colab.kernel.invokeFunction('convertToInteractive',\n",
              "                                                    [key], {});\n",
              "        if (!dataTable) return;\n",
              "\n",
              "        const docLinkHtml = 'Like what you see? Visit the ' +\n",
              "          '<a target=\"_blank\" href=https://colab.research.google.com/notebooks/data_table.ipynb>data table notebook</a>'\n",
              "          + ' to learn more about interactive tables.';\n",
              "        element.innerHTML = '';\n",
              "        dataTable['output_type'] = 'display_data';\n",
              "        await google.colab.output.renderOutput(dataTable, element);\n",
              "        const docLink = document.createElement('div');\n",
              "        docLink.innerHTML = docLinkHtml;\n",
              "        element.appendChild(docLink);\n",
              "      }\n",
              "    </script>\n",
              "  </div>\n",
              "\n",
              "\n",
              "<div id=\"df-a930b857-56bc-4280-8aee-41fd3e96a64b\">\n",
              "  <button class=\"colab-df-quickchart\" onclick=\"quickchart('df-a930b857-56bc-4280-8aee-41fd3e96a64b')\"\n",
              "            title=\"Suggest charts\"\n",
              "            style=\"display:none;\">\n",
              "\n",
              "<svg xmlns=\"http://www.w3.org/2000/svg\" height=\"24px\"viewBox=\"0 0 24 24\"\n",
              "     width=\"24px\">\n",
              "    <g>\n",
              "        <path d=\"M19 3H5c-1.1 0-2 .9-2 2v14c0 1.1.9 2 2 2h14c1.1 0 2-.9 2-2V5c0-1.1-.9-2-2-2zM9 17H7v-7h2v7zm4 0h-2V7h2v10zm4 0h-2v-4h2v4z\"/>\n",
              "    </g>\n",
              "</svg>\n",
              "  </button>\n",
              "\n",
              "<style>\n",
              "  .colab-df-quickchart {\n",
              "      --bg-color: #E8F0FE;\n",
              "      --fill-color: #1967D2;\n",
              "      --hover-bg-color: #E2EBFA;\n",
              "      --hover-fill-color: #174EA6;\n",
              "      --disabled-fill-color: #AAA;\n",
              "      --disabled-bg-color: #DDD;\n",
              "  }\n",
              "\n",
              "  [theme=dark] .colab-df-quickchart {\n",
              "      --bg-color: #3B4455;\n",
              "      --fill-color: #D2E3FC;\n",
              "      --hover-bg-color: #434B5C;\n",
              "      --hover-fill-color: #FFFFFF;\n",
              "      --disabled-bg-color: #3B4455;\n",
              "      --disabled-fill-color: #666;\n",
              "  }\n",
              "\n",
              "  .colab-df-quickchart {\n",
              "    background-color: var(--bg-color);\n",
              "    border: none;\n",
              "    border-radius: 50%;\n",
              "    cursor: pointer;\n",
              "    display: none;\n",
              "    fill: var(--fill-color);\n",
              "    height: 32px;\n",
              "    padding: 0;\n",
              "    width: 32px;\n",
              "  }\n",
              "\n",
              "  .colab-df-quickchart:hover {\n",
              "    background-color: var(--hover-bg-color);\n",
              "    box-shadow: 0 1px 2px rgba(60, 64, 67, 0.3), 0 1px 3px 1px rgba(60, 64, 67, 0.15);\n",
              "    fill: var(--button-hover-fill-color);\n",
              "  }\n",
              "\n",
              "  .colab-df-quickchart-complete:disabled,\n",
              "  .colab-df-quickchart-complete:disabled:hover {\n",
              "    background-color: var(--disabled-bg-color);\n",
              "    fill: var(--disabled-fill-color);\n",
              "    box-shadow: none;\n",
              "  }\n",
              "\n",
              "  .colab-df-spinner {\n",
              "    border: 2px solid var(--fill-color);\n",
              "    border-color: transparent;\n",
              "    border-bottom-color: var(--fill-color);\n",
              "    animation:\n",
              "      spin 1s steps(1) infinite;\n",
              "  }\n",
              "\n",
              "  @keyframes spin {\n",
              "    0% {\n",
              "      border-color: transparent;\n",
              "      border-bottom-color: var(--fill-color);\n",
              "      border-left-color: var(--fill-color);\n",
              "    }\n",
              "    20% {\n",
              "      border-color: transparent;\n",
              "      border-left-color: var(--fill-color);\n",
              "      border-top-color: var(--fill-color);\n",
              "    }\n",
              "    30% {\n",
              "      border-color: transparent;\n",
              "      border-left-color: var(--fill-color);\n",
              "      border-top-color: var(--fill-color);\n",
              "      border-right-color: var(--fill-color);\n",
              "    }\n",
              "    40% {\n",
              "      border-color: transparent;\n",
              "      border-right-color: var(--fill-color);\n",
              "      border-top-color: var(--fill-color);\n",
              "    }\n",
              "    60% {\n",
              "      border-color: transparent;\n",
              "      border-right-color: var(--fill-color);\n",
              "    }\n",
              "    80% {\n",
              "      border-color: transparent;\n",
              "      border-right-color: var(--fill-color);\n",
              "      border-bottom-color: var(--fill-color);\n",
              "    }\n",
              "    90% {\n",
              "      border-color: transparent;\n",
              "      border-bottom-color: var(--fill-color);\n",
              "    }\n",
              "  }\n",
              "</style>\n",
              "\n",
              "  <script>\n",
              "    async function quickchart(key) {\n",
              "      const quickchartButtonEl =\n",
              "        document.querySelector('#' + key + ' button');\n",
              "      quickchartButtonEl.disabled = true;  // To prevent multiple clicks.\n",
              "      quickchartButtonEl.classList.add('colab-df-spinner');\n",
              "      try {\n",
              "        const charts = await google.colab.kernel.invokeFunction(\n",
              "            'suggestCharts', [key], {});\n",
              "      } catch (error) {\n",
              "        console.error('Error during call to suggestCharts:', error);\n",
              "      }\n",
              "      quickchartButtonEl.classList.remove('colab-df-spinner');\n",
              "      quickchartButtonEl.classList.add('colab-df-quickchart-complete');\n",
              "    }\n",
              "    (() => {\n",
              "      let quickchartButtonEl =\n",
              "        document.querySelector('#df-a930b857-56bc-4280-8aee-41fd3e96a64b button');\n",
              "      quickchartButtonEl.style.display =\n",
              "        google.colab.kernel.accessAllowed ? 'block' : 'none';\n",
              "    })();\n",
              "  </script>\n",
              "</div>\n",
              "\n",
              "    </div>\n",
              "  </div>\n"
            ],
            "application/vnd.google.colaboratory.intrinsic+json": {
              "type": "dataframe",
              "variable_name": "predictions",
              "summary": "{\n  \"name\": \"predictions\",\n  \"rows\": 5279,\n  \"fields\": [\n    {\n      \"column\": \"show_id\",\n      \"properties\": {\n        \"dtype\": \"category\",\n        \"num_unique_values\": 5279,\n        \"samples\": [\n          \"s39\",\n          \"s2916\",\n          \"s1155\"\n        ],\n        \"semantic_type\": \"\",\n        \"description\": \"\"\n      }\n    },\n    {\n      \"column\": \"title\",\n      \"properties\": {\n        \"dtype\": \"category\",\n        \"num_unique_values\": 5277,\n        \"samples\": [\n          \"Birth of the Dragon\",\n          \"Love Dot Com: The Social Experiment\",\n          \"Lawless\"\n        ],\n        \"semantic_type\": \"\",\n        \"description\": \"\"\n      }\n    },\n    {\n      \"column\": \"director\",\n      \"properties\": {\n        \"dtype\": \"category\",\n        \"num_unique_values\": 3907,\n        \"samples\": [\n          \"Fernando Colomo\",\n          \"Daniele Thompson\",\n          \"Sara Colangelo\"\n        ],\n        \"semantic_type\": \"\",\n        \"description\": \"\"\n      }\n    },\n    {\n      \"column\": \"cast\",\n      \"properties\": {\n        \"dtype\": \"category\",\n        \"num_unique_values\": 5149,\n        \"samples\": [\n          \"Peemapol Panichtamrong, Phiravich Attachitsataporn, Thime Pichitsurakit, Jidapa Siribunchawan, Yanin Opassathaworn, Jaturong Kolimart, Pete Thongchua, Ratchanont Sukpragawp, Kanyaphak Pongsak, Kittikun Tansuhas, Tanawat Cheawaram, Toru Takizawa, Noraworn Puangumpai\",\n          \"Harold Evans\",\n          \"Sadie Stanley, Maxwell Simkins, Ken Marino, Malin Akerman, Cree Cicchino, Lucas Jaye, Karla Souza, Enuka Okuma, Erik Griffin, Joe Manganiello\"\n        ],\n        \"semantic_type\": \"\",\n        \"description\": \"\"\n      }\n    },\n    {\n      \"column\": \"country\",\n      \"properties\": {\n        \"dtype\": \"category\",\n        \"num_unique_values\": 595,\n        \"samples\": [\n          \"Namibia\",\n          \"Netherlands, Germany, Denmark, United Kingdom\",\n          \"Russia, United States, China\"\n        ],\n        \"semantic_type\": \"\",\n        \"description\": \"\"\n      }\n    },\n    {\n      \"column\": \"date_added\",\n      \"properties\": {\n        \"dtype\": \"category\",\n        \"num_unique_values\": 1448,\n        \"samples\": [\n          \"January 27, 2017\",\n          \"May 6, 2020\",\n          \"March 7, 2018\"\n        ],\n        \"semantic_type\": \"\",\n        \"description\": \"\"\n      }\n    },\n    {\n      \"column\": \"release_year\",\n      \"properties\": {\n        \"dtype\": \"int32\",\n        \"num_unique_values\": 72,\n        \"samples\": [\n          2013,\n          1977,\n          2007\n        ],\n        \"semantic_type\": \"\",\n        \"description\": \"\"\n      }\n    },\n    {\n      \"column\": \"duration\",\n      \"properties\": {\n        \"dtype\": \"category\",\n        \"num_unique_values\": 198,\n        \"samples\": [\n          \"189 min\",\n          \"8 min\",\n          \"88 min\"\n        ],\n        \"semantic_type\": \"\",\n        \"description\": \"\"\n      }\n    },\n    {\n      \"column\": \"listed_in\",\n      \"properties\": {\n        \"dtype\": \"category\",\n        \"num_unique_values\": 334,\n        \"samples\": [\n          \"Action & Adventure, Classic Movies, Cult Movies\",\n          \"Documentaries, Faith & Spirituality, International Movies\",\n          \"Dramas, Sports Movies\"\n        ],\n        \"semantic_type\": \"\",\n        \"description\": \"\"\n      }\n    },\n    {\n      \"column\": \"description\",\n      \"properties\": {\n        \"dtype\": \"category\",\n        \"num_unique_values\": 5268,\n        \"samples\": [\n          \"A washed-up corpse with surprising abilities gives a hopeless man stranded in the wilderness someone to talk to \\u00e2\\u20ac\\u201c and a newfound reason to live.\",\n          \"A violent confrontation between a motorcycle-riding bank robber and a rookie cop spirals into a tense generational feud.\",\n          \"A couple decides to make their engagement official by honoring tradition when a pandemic forces them and their families to quarantine under one roof.\"\n        ],\n        \"semantic_type\": \"\",\n        \"description\": \"\"\n      }\n    },\n    {\n      \"column\": \"type\",\n      \"properties\": {\n        \"dtype\": \"category\",\n        \"num_unique_values\": 2,\n        \"samples\": [\n          \"TV Show\",\n          \"Movie\"\n        ],\n        \"semantic_type\": \"\",\n        \"description\": \"\"\n      }\n    },\n    {\n      \"column\": \"prediction_label\",\n      \"properties\": {\n        \"dtype\": \"category\",\n        \"num_unique_values\": 2,\n        \"samples\": [\n          \"TV Show\",\n          \"Movie\"\n        ],\n        \"semantic_type\": \"\",\n        \"description\": \"\"\n      }\n    },\n    {\n      \"column\": \"prediction_score\",\n      \"properties\": {\n        \"dtype\": \"number\",\n        \"std\": 0.025150297987011006,\n        \"min\": 0.58,\n        \"max\": 1.0,\n        \"num_unique_values\": 3,\n        \"samples\": [\n          1.0,\n          0.58\n        ],\n        \"semantic_type\": \"\",\n        \"description\": \"\"\n      }\n    }\n  ]\n}"
            }
          },
          "metadata": {},
          "execution_count": 21
        }
      ]
    },
    {
      "cell_type": "code",
      "source": [
        "plot_model(tuned_model, plot=\"feature\")\n",
        "plot_model(tuned_model, plot=\"confusion_matrix\")"
      ],
      "metadata": {
        "colab": {
          "base_uri": "https://localhost:8080/",
          "height": 1000
        },
        "id": "vOzoILZGbfMi",
        "outputId": "be23539a-603a-49fc-9cdb-24795f0f5b21"
      },
      "execution_count": 22,
      "outputs": [
        {
          "output_type": "display_data",
          "data": {
            "text/plain": [
              "<IPython.core.display.HTML object>"
            ],
            "text/html": []
          },
          "metadata": {}
        },
        {
          "output_type": "display_data",
          "data": {
            "text/plain": [
              "<Figure size 800x500 with 1 Axes>"
            ],
            "image/png": "[encoded data removed]"
          },
          "metadata": {}
        },
        {
          "output_type": "display_data",
          "data": {
            "text/plain": [
              "<IPython.core.display.HTML object>"
            ],
            "text/html": []
          },
          "metadata": {}
        },
        {
          "output_type": "display_data",
          "data": {
            "text/plain": [
              "<Figure size 800x550 with 1 Axes>"
            ],
            "image/png": "[encoded data removed]"
          },
          "metadata": {}
        }
      ]
    },
    {
      "cell_type": "code",
      "source": [
        "df[\"release_year\"] = df[\"release_year\"].astype(int)"
      ],
      "metadata": {
        "id": "w2Rmpa7WcwZm"
      },
      "execution_count": 26,
      "outputs": []
    },
    {
      "cell_type": "code",
      "source": [
        "from sklearn.model_selection import train_test_split\n",
        "from sklearn.ensemble import RandomForestClassifier\n",
        "from sklearn.metrics import accuracy_score\n",
        "import numpy as np\n",
        "\n",
        "# تحويل الشعبية إلى تصنيف (مثلاً، إذا كان العمل حديثًا وشائعًا، يصنف كـ \"Popular\")\n",
        "df[\"popularity\"] = np.where(df[\"release_year\"] >= 2015, \"Popular\", \"Not Popular\")\n",
        "\n",
        "df[\"popularity\"] = df[\"popularity\"].astype(\"category\").cat.codes\n",
        "\n",
        "# تقسيم البيانات\n",
        "X = df[[\"release_year\"]]\n",
        "y = df[\"popularity\"]\n",
        "X_train, X_test, y_train, y_test = train_test_split(X, y, test_size=0.2, random_state=42)\n",
        "\n",
        "# تدريب نموذج Random Forest\n",
        "model = RandomForestClassifier(n_estimators=100, random_state=42)\n",
        "model.fit(X_train, y_train)\n",
        "\n",
        "# التنبؤ بالنتائج\n",
        "y_pred = model.predict(X_test)\n",
        "\n",
        "# تقييم النموذج\n",
        "accuracy = accuracy_score(y_test, y_pred)\n",
        "print(f\"Model Accuracy: {accuracy * 100:.2f}%\")\n"
      ],
      "metadata": {
        "colab": {
          "base_uri": "https://localhost:8080/"
        },
        "id": "EL3vb0TedeYU",
        "outputId": "c913623e-1a82-4e74-fbad-869f94790656"
      },
      "execution_count": 32,
      "outputs": [
        {
          "output_type": "stream",
          "name": "stdout",
          "text": [
            "Model Accuracy: 100.00%\n"
          ]
        }
      ]
    },
    {
      "cell_type": "code",
      "source": [
        "results_df = pd.DataFrame({\"Actual\": y_test, \"Predicted\": y_pred})\n",
        "print(results_df.head(10))  # عرض أول 10 نتائج\n"
      ],
      "metadata": {
        "colab": {
          "base_uri": "https://localhost:8080/"
        },
        "id": "-o6Mt0Uyd4n2",
        "outputId": "71a22b33-a9f8-43c0-9d0f-09c297d15c2d"
      },
      "execution_count": 33,
      "outputs": [
        {
          "output_type": "stream",
          "name": "stdout",
          "text": [
            "      Actual  Predicted\n",
            "8          1          1\n",
            "1580       0          0\n",
            "544        0          0\n",
            "4885       1          1\n",
            "3941       0          0\n",
            "2312       1          1\n",
            "3406       0          0\n",
            "1503       1          1\n",
            "167        0          0\n",
            "346        0          0\n"
          ]
        }
      ]
    },
    {
      "cell_type": "code",
      "source": [
        "from sklearn.metrics import confusion_matrix\n",
        "\n",
        "cm = confusion_matrix(y_test, y_pred)\n",
        "print(\"Confusion Matrix:\")\n",
        "print(cm)\n"
      ],
      "metadata": {
        "colab": {
          "base_uri": "https://localhost:8080/"
        },
        "id": "TqDA04tJd6Ik",
        "outputId": "9e1ecaaf-e02e-47df-ce02-6f7c704ab9de"
      },
      "execution_count": 34,
      "outputs": [
        {
          "output_type": "stream",
          "name": "stdout",
          "text": [
            "Confusion Matrix:\n",
            "[[415   0]\n",
            " [  0 641]]\n"
          ]
        }
      ]
    },
    {
      "cell_type": "code",
      "source": [
        "import seaborn as sns\n",
        "import matplotlib.pyplot as plt\n",
        "\n",
        "plt.figure(figsize=(5,4))\n",
        "sns.heatmap(cm, annot=True, fmt=\"d\", cmap=\"Blues\", xticklabels=[\"Not Popular\", \"Popular\"], yticklabels=[\"Not Popular\", \"Popular\"])\n",
        "plt.xlabel(\"Predicted\")\n",
        "plt.ylabel(\"Actual\")\n",
        "plt.title(\"Confusion Matrix\")\n",
        "plt.show()\n"
      ],
      "metadata": {
        "colab": {
          "base_uri": "https://localhost:8080/",
          "height": 408
        },
        "id": "Ql9ebheGd6LJ",
        "outputId": "d410d3d9-045e-414b-d138-3ca359f059b3"
      },
      "execution_count": 35,
      "outputs": [
        {
          "output_type": "display_data",
          "data": {
            "text/plain": [
              "<Figure size 500x400 with 2 Axes>"
            ],
            "image/png": "[encoded data removed]"
          },
          "metadata": {}
        }
      ]
    },
    {
      "cell_type": "code",
      "source": [
        "from sklearn.metrics import classification_report\n",
        "\n",
        "report = classification_report(y_test, y_pred, target_names=[\"Not Popular\", \"Popular\"])\n",
        "print(report)\n"
      ],
      "metadata": {
        "colab": {
          "base_uri": "https://localhost:8080/"
        },
        "id": "QcGEIQh7d6NO",
        "outputId": "25512d75-f7eb-4aaa-dd9e-bf41ad8c65e1"
      },
      "execution_count": 36,
      "outputs": [
        {
          "output_type": "stream",
          "name": "stdout",
          "text": [
            "              precision    recall  f1-score   support\n",
            "\n",
            " Not Popular       1.00      1.00      1.00       415\n",
            "     Popular       1.00      1.00      1.00       641\n",
            "\n",
            "    accuracy                           1.00      1056\n",
            "   macro avg       1.00      1.00      1.00      1056\n",
            "weighted avg       1.00      1.00      1.00      1056\n",
            "\n"
          ]
        }
      ]
    },
    {
      "cell_type": "code",
      "source": [
        "plt.figure(figsize=(6,4))\n",
        "sns.histplot(y_test, color=\"blue\", label=\"Actual\", kde=True)\n",
        "sns.histplot(y_pred, color=\"red\", label=\"Predicted\", kde=True)\n",
        "plt.legend()\n",
        "plt.title(\"Distribution of Actual vs Predicted Popularity\")\n",
        "plt.show()\n"
      ],
      "metadata": {
        "colab": {
          "base_uri": "https://localhost:8080/",
          "height": 408
        },
        "id": "SCWhR-EAeCi7",
        "outputId": "b23357e3-68e0-45bf-8ae9-60cffc335574"
      },
      "execution_count": 37,
      "outputs": [
        {
          "output_type": "display_data",
          "data": {
            "text/plain": [
              "<Figure size 600x400 with 1 Axes>"
            ],
            "image/png": "[encoded data removed]"
          },
          "metadata": {}
        }
      ]
    },
    {
      "cell_type": "code",
      "source": [
        "from sklearn.linear_model import LogisticRegression\n",
        "from sklearn.ensemble import GradientBoostingClassifier\n",
        "\n",
        "# تدريب نموذج Logistic Regression\n",
        "log_model = LogisticRegression()\n",
        "log_model.fit(X_train, y_train)\n",
        "log_pred = log_model.predict(X_test)\n",
        "\n",
        "# تدريب نموذج Gradient Boosting\n",
        "gb_model = GradientBoostingClassifier()\n",
        "gb_model.fit(X_train, y_train)\n",
        "gb_pred = gb_model.predict(X_test)\n",
        "\n",
        "# حساب الدقة لكل نموذج\n",
        "print(f\"Random Forest Accuracy: {accuracy_score(y_test, y_pred) * 100:.2f}%\")\n",
        "print(f\"Logistic Regression Accuracy: {accuracy_score(y_test, log_pred) * 100:.2f}%\")\n",
        "print(f\"Gradient Boosting Accuracy: {accuracy_score(y_test, gb_pred) * 100:.2f}%\")\n"
      ],
      "metadata": {
        "colab": {
          "base_uri": "https://localhost:8080/"
        },
        "id": "27WIXyyTeaP9",
        "outputId": "884ca114-488f-41ee-e3dd-9aec57149a44"
      },
      "execution_count": 41,
      "outputs": [
        {
          "output_type": "stream",
          "name": "stdout",
          "text": [
            "Random Forest Accuracy: 100.00%\n",
            "Logistic Regression Accuracy: 100.00%\n",
            "Gradient Boosting Accuracy: 100.00%\n"
          ]
        }
      ]
    },
    {
      "cell_type": "code",
      "source": [
        "new_data = pd.DataFrame({\"release_year\": [2020, 2010, 2015]})  # مثال على بيانات جديدة\n",
        "new_predictions = model.predict(new_data)\n",
        "print(new_predictions)\n"
      ],
      "metadata": {
        "colab": {
          "base_uri": "https://localhost:8080/"
        },
        "id": "m_5I_4OoeaST",
        "outputId": "2a8e2391-6f27-4b8d-bdc9-2d4e03cef12c"
      },
      "execution_count": 42,
      "outputs": [
        {
          "output_type": "stream",
          "name": "stdout",
          "text": [
            "[1 0 1]\n"
          ]
        }
      ]
    },
    {
      "cell_type": "code",
      "source": [
        "results_df = pd.DataFrame({\n",
        "    \"Actual\": y_test,\n",
        "    \"Random Forest\": y_pred,\n",
        "    \"Logistic Regression\": log_pred,\n",
        "    \"Gradient Boosting\": gb_pred\n",
        "})\n",
        "\n",
        "print(results_df.head(10))"
      ],
      "metadata": {
        "colab": {
          "base_uri": "https://localhost:8080/"
        },
        "id": "i75j2mDueaVY",
        "outputId": "74cb1eae-5b4a-4d9f-f4d0-b4680dbe4600"
      },
      "execution_count": 43,
      "outputs": [
        {
          "output_type": "stream",
          "name": "stdout",
          "text": [
            "      Actual  Random Forest  Logistic Regression  Gradient Boosting\n",
            "8          1              1                    1                  1\n",
            "1580       0              0                    0                  0\n",
            "544        0              0                    0                  0\n",
            "4885       1              1                    1                  1\n",
            "3941       0              0                    0                  0\n",
            "2312       1              1                    1                  1\n",
            "3406       0              0                    0                  0\n",
            "1503       1              1                    1                  1\n",
            "167        0              0                    0                  0\n",
            "346        0              0                    0                  0\n"
          ]
        }
      ]
    },
    {
      "cell_type": "code",
      "source": [
        "import matplotlib.pyplot as plt\n",
        "import seaborn as sns\n",
        "\n",
        "# تجميع الدقة لكل نموذج\n",
        "accuracies = {\n",
        "    \"Random Forest\": accuracy_score(y_test, y_pred),\n",
        "    \"Logistic Regression\": accuracy_score(y_test, log_pred),\n",
        "    \"Gradient Boosting\": accuracy_score(y_test, gb_pred),\n",
        "}\n",
        "\n",
        "# رسم المخطط\n",
        "plt.figure(figsize=(6, 4))\n",
        "sns.barplot(x=list(accuracies.keys()), y=list(accuracies.values()), palette=\"viridis\")\n",
        "plt.ylim(0, 1)  # تحديد النطاق من 0 إلى 100%\n",
        "plt.ylabel(\"Accuracy\")\n",
        "plt.title(\"Model Comparison\")\n",
        "plt.show()\n"
      ],
      "metadata": {
        "colab": {
          "base_uri": "https://localhost:8080/",
          "height": 389
        },
        "id": "-ssT9sNuev2L",
        "outputId": "5cc31c1d-952a-46c6-e3ee-8040a943adb3"
      },
      "execution_count": 44,
      "outputs": [
        {
          "output_type": "display_data",
          "data": {
            "text/plain": [
              "<Figure size 600x400 with 1 Axes>"
            ],
            "image/png": "[encoded data removed]"
          },
          "metadata": {}
        }
      ]
    },
    {
      "cell_type": "code",
      "source": [
        "from sklearn.metrics import confusion_matrix\n",
        "\n",
        "models = {\n",
        "    \"Random Forest\": y_pred,\n",
        "    \"Logistic Regression\": log_pred,\n",
        "    \"Gradient Boosting\": gb_pred\n",
        "}\n",
        "\n",
        "plt.figure(figsize=(12, 4))\n",
        "for i, (name, pred) in enumerate(models.items(), 1):\n",
        "    plt.subplot(1, 3, i)\n",
        "    cm = confusion_matrix(y_test, pred)\n",
        "    sns.heatmap(cm, annot=True, fmt=\"d\", cmap=\"Blues\")\n",
        "    plt.title(name)\n",
        "    plt.xlabel(\"Predicted\")\n",
        "    plt.ylabel(\"Actual\")\n",
        "plt.tight_layout()\n",
        "plt.show()\n"
      ],
      "metadata": {
        "colab": {
          "base_uri": "https://localhost:8080/",
          "height": 323
        },
        "id": "JG7gVWaLeabp",
        "outputId": "cbcd6ce8-41fb-4264-f584-aba52fde992a"
      },
      "execution_count": 45,
      "outputs": [
        {
          "output_type": "display_data",
          "data": {
            "text/plain": [
              "<Figure size 1200x400 with 6 Axes>"
            ],
            "image/png": "[encoded data removed]"
          },
          "metadata": {}
        }
      ]
    },
    {
      "cell_type": "code",
      "source": [
        "from sklearn.metrics import classification_report\n",
        "\n",
        "for name, pred in models.items():\n",
        "    print(f\"\\n📌 Classification Report for {name}:\\n\")\n",
        "    print(classification_report(y_test, pred, target_names=[\"Not Popular\", \"Popular\"]))\n"
      ],
      "metadata": {
        "colab": {
          "base_uri": "https://localhost:8080/"
        },
        "id": "ZBAvFEwbe6pn",
        "outputId": "50e14995-34b3-4189-a0fe-df1d50ec998a"
      },
      "execution_count": 57,
      "outputs": [
        {
          "output_type": "stream",
          "name": "stdout",
          "text": [
            "\n",
            "📌 Classification Report for Random Forest:\n",
            "\n",
            "              precision    recall  f1-score   support\n",
            "\n",
            " Not Popular       1.00      1.00      1.00       415\n",
            "     Popular       1.00      1.00      1.00       641\n",
            "\n",
            "    accuracy                           1.00      1056\n",
            "   macro avg       1.00      1.00      1.00      1056\n",
            "weighted avg       1.00      1.00      1.00      1056\n",
            "\n",
            "\n",
            "📌 Classification Report for Logistic Regression:\n",
            "\n",
            "              precision    recall  f1-score   support\n",
            "\n",
            " Not Popular       1.00      1.00      1.00       415\n",
            "     Popular       1.00      1.00      1.00       641\n",
            "\n",
            "    accuracy                           1.00      1056\n",
            "   macro avg       1.00      1.00      1.00      1056\n",
            "weighted avg       1.00      1.00      1.00      1056\n",
            "\n",
            "\n",
            "📌 Classification Report for Gradient Boosting:\n",
            "\n",
            "              precision    recall  f1-score   support\n",
            "\n",
            " Not Popular       1.00      1.00      1.00       415\n",
            "     Popular       1.00      1.00      1.00       641\n",
            "\n",
            "    accuracy                           1.00      1056\n",
            "   macro avg       1.00      1.00      1.00      1056\n",
            "weighted avg       1.00      1.00      1.00      1056\n",
            "\n"
          ]
        }
      ]
    }
  ]
}